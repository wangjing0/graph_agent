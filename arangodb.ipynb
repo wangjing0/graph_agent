{
 "cells": [
  {
   "cell_type": "code",
   "execution_count": 4,
   "metadata": {},
   "outputs": [],
   "source": [
    "from graph_agent import GraphAgent\n",
    "\n",
    "%reload_ext autoreload\n",
    "%autoreload 2"
   ]
  },
  {
   "cell_type": "code",
   "execution_count": 5,
   "metadata": {},
   "outputs": [
    {
     "name": "stderr",
     "output_type": "stream",
     "text": [
      "[22:54:59 +0000] [INFO]: Graph 'OPEN_INTELLIGENCE' exists.\n",
      "[22:54:59 +0000] [INFO]: Default node type set to 'Actor'\n",
      "\u001b[32m 2025-02-21 22:55:01,766 - INFO - Creating vector database\u001b[0m\n",
      "\u001b[32m 2025-02-21 22:55:01,766 - INFO - Creating vector database\u001b[0m\n",
      "\u001b[32m 2025-02-21 22:55:01,766 - INFO - Creating vector database\u001b[0m\n",
      "100%|██████████| 626/626 [09:11<00:00,  1.14it/s]\n"
     ]
    },
    {
     "ename": "KeyError",
     "evalue": "'Column subgraph does not exist in schema'",
     "output_type": "error",
     "traceback": [
      "\u001b[0;31m---------------------------------------------------------------------------\u001b[0m",
      "\u001b[0;31mKeyError\u001b[0m                                  Traceback (most recent call last)",
      "File \u001b[0;32m~/anaconda3/envs/graphRAG/lib/python3.11/site-packages/lancedb/fts.py:107\u001b[0m, in \u001b[0;36mpopulate_index\u001b[0;34m(index, table, fields, writer_heap_size, ordering_fields)\u001b[0m\n\u001b[1;32m    106\u001b[0m \u001b[38;5;28;01mtry\u001b[39;00m:\n\u001b[0;32m--> 107\u001b[0m     f \u001b[38;5;241m=\u001b[39m \u001b[43mtable\u001b[49m\u001b[38;5;241;43m.\u001b[39;49m\u001b[43mschema\u001b[49m\u001b[38;5;241;43m.\u001b[39;49m\u001b[43mfield\u001b[49m\u001b[43m(\u001b[49m\u001b[43mname\u001b[49m\u001b[43m)\u001b[49m  \u001b[38;5;66;03m# raises KeyError if not found\u001b[39;00m\n\u001b[1;32m    108\u001b[0m \u001b[38;5;28;01mexcept\u001b[39;00m \u001b[38;5;167;01mKeyError\u001b[39;00m:\n",
      "File \u001b[0;32m~/anaconda3/envs/graphRAG/lib/python3.11/site-packages/pyarrow/types.pxi:2792\u001b[0m, in \u001b[0;36mpyarrow.lib.Schema.field\u001b[0;34m()\u001b[0m\n",
      "\u001b[0;31mKeyError\u001b[0m: 'Column subgraph does not exist in schema'",
      "\nDuring handling of the above exception, another exception occurred:\n",
      "\u001b[0;31mKeyError\u001b[0m                                  Traceback (most recent call last)",
      "Cell \u001b[0;32mIn[5], line 2\u001b[0m\n\u001b[1;32m      1\u001b[0m graph_agent \u001b[38;5;241m=\u001b[39m GraphAgent()\n\u001b[0;32m----> 2\u001b[0m \u001b[43mgraph_agent\u001b[49m\u001b[38;5;241;43m.\u001b[39;49m\u001b[43mcreate_vector_db\u001b[49m\u001b[43m(\u001b[49m\u001b[43m)\u001b[49m\n",
      "File \u001b[0;32m~/Jing/RAG/GraphRAG_adb/graph_agent.py:98\u001b[0m, in \u001b[0;36mGraphAgent.create_vector_db\u001b[0;34m(self)\u001b[0m\n\u001b[1;32m     92\u001b[0m     \u001b[38;5;28mself\u001b[39m\u001b[38;5;241m.\u001b[39mtable\u001b[38;5;241m.\u001b[39madd(data\u001b[38;5;241m=\u001b[39m[{\n\u001b[1;32m     93\u001b[0m         \u001b[38;5;124m'\u001b[39m\u001b[38;5;124m_id\u001b[39m\u001b[38;5;124m'\u001b[39m: \u001b[38;5;28mstr\u001b[39m(row[\u001b[38;5;124m'\u001b[39m\u001b[38;5;124m_id\u001b[39m\u001b[38;5;124m'\u001b[39m]),\n\u001b[1;32m     94\u001b[0m         \u001b[38;5;124m'\u001b[39m\u001b[38;5;124mdescription\u001b[39m\u001b[38;5;124m'\u001b[39m: \u001b[38;5;124mf\u001b[39m\u001b[38;5;124m\"\u001b[39m\u001b[38;5;132;01m{\u001b[39;00m\u001b[38;5;28mstr\u001b[39m(row[\u001b[38;5;124m'\u001b[39m\u001b[38;5;124mname\u001b[39m\u001b[38;5;124m'\u001b[39m])\u001b[38;5;132;01m}\u001b[39;00m\u001b[38;5;124m : \u001b[39m\u001b[38;5;132;01m{\u001b[39;00m\u001b[38;5;28mstr\u001b[39m(row[\u001b[38;5;124m'\u001b[39m\u001b[38;5;124mdescription\u001b[39m\u001b[38;5;124m'\u001b[39m])\u001b[38;5;132;01m}\u001b[39;00m\u001b[38;5;124m\"\u001b[39m, \u001b[38;5;66;03m# make sure there is a description field in the dataframe\u001b[39;00m\n\u001b[1;32m     95\u001b[0m         \u001b[38;5;124m'\u001b[39m\u001b[38;5;124mmetadata\u001b[39m\u001b[38;5;124m'\u001b[39m: \u001b[38;5;28mstr\u001b[39m([\u001b[38;5;124mf\u001b[39m\u001b[38;5;124m\"\u001b[39m\u001b[38;5;132;01m{\u001b[39;00mcol\u001b[38;5;132;01m}\u001b[39;00m\u001b[38;5;124m : \u001b[39m\u001b[38;5;132;01m{\u001b[39;00m\u001b[38;5;28mstr\u001b[39m(row[col])\u001b[38;5;132;01m}\u001b[39;00m\u001b[38;5;124m\"\u001b[39m \u001b[38;5;28;01mfor\u001b[39;00m col \u001b[38;5;129;01min\u001b[39;00m col_names \u001b[38;5;28;01mif\u001b[39;00m col \u001b[38;5;129;01mnot\u001b[39;00m \u001b[38;5;129;01min\u001b[39;00m [\u001b[38;5;124m'\u001b[39m\u001b[38;5;124m_id\u001b[39m\u001b[38;5;124m'\u001b[39m, \u001b[38;5;124m'\u001b[39m\u001b[38;5;124mdescription\u001b[39m\u001b[38;5;124m'\u001b[39m]])\n\u001b[1;32m     96\u001b[0m     } \u001b[38;5;28;01mfor\u001b[39;00m _, row \u001b[38;5;129;01min\u001b[39;00m batch\u001b[38;5;241m.\u001b[39miterrows()])\n\u001b[1;32m     97\u001b[0m \u001b[38;5;66;03m# full text search index\u001b[39;00m\n\u001b[0;32m---> 98\u001b[0m \u001b[38;5;28;43mself\u001b[39;49m\u001b[38;5;241;43m.\u001b[39;49m\u001b[43mtable\u001b[49m\u001b[38;5;241;43m.\u001b[39;49m\u001b[43mcreate_fts_index\u001b[49m\u001b[43m(\u001b[49m\u001b[43m[\u001b[49m\u001b[38;5;124;43m'\u001b[39;49m\u001b[38;5;124;43mdescription\u001b[39;49m\u001b[38;5;124;43m'\u001b[39;49m\u001b[43m,\u001b[49m\u001b[43m \u001b[49m\u001b[38;5;124;43m'\u001b[39;49m\u001b[38;5;124;43msubgraph\u001b[39;49m\u001b[38;5;124;43m'\u001b[39;49m\u001b[43m]\u001b[49m\u001b[43m,\u001b[49m\u001b[43m \u001b[49m\u001b[43mreplace\u001b[49m\u001b[38;5;241;43m=\u001b[39;49m\u001b[38;5;28;43;01mTrue\u001b[39;49;00m\u001b[43m)\u001b[49m\n\u001b[1;32m    100\u001b[0m \u001b[38;5;28;01mreturn\u001b[39;00m\n",
      "File \u001b[0;32m~/anaconda3/envs/graphRAG/lib/python3.11/site-packages/lancedb/table.py:1361\u001b[0m, in \u001b[0;36mLanceTable.create_fts_index\u001b[0;34m(self, field_names, ordering_field_names, replace, with_position, writer_heap_size, tokenizer_name, use_tantivy)\u001b[0m\n\u001b[1;32m   1351\u001b[0m     \u001b[38;5;28;01mraise\u001b[39;00m \u001b[38;5;167;01mNotImplementedError\u001b[39;00m(\n\u001b[1;32m   1352\u001b[0m         \u001b[38;5;124m\"\u001b[39m\u001b[38;5;124mFull-text search is only supported on the local filesystem\u001b[39m\u001b[38;5;124m\"\u001b[39m\n\u001b[1;32m   1353\u001b[0m     )\n\u001b[1;32m   1355\u001b[0m index \u001b[38;5;241m=\u001b[39m create_index(\n\u001b[1;32m   1356\u001b[0m     path,\n\u001b[1;32m   1357\u001b[0m     field_names,\n\u001b[1;32m   1358\u001b[0m     ordering_fields\u001b[38;5;241m=\u001b[39mordering_field_names,\n\u001b[1;32m   1359\u001b[0m     tokenizer_name\u001b[38;5;241m=\u001b[39mtokenizer_name,\n\u001b[1;32m   1360\u001b[0m )\n\u001b[0;32m-> 1361\u001b[0m \u001b[43mpopulate_index\u001b[49m\u001b[43m(\u001b[49m\n\u001b[1;32m   1362\u001b[0m \u001b[43m    \u001b[49m\u001b[43mindex\u001b[49m\u001b[43m,\u001b[49m\n\u001b[1;32m   1363\u001b[0m \u001b[43m    \u001b[49m\u001b[38;5;28;43mself\u001b[39;49m\u001b[43m,\u001b[49m\n\u001b[1;32m   1364\u001b[0m \u001b[43m    \u001b[49m\u001b[43mfield_names\u001b[49m\u001b[43m,\u001b[49m\n\u001b[1;32m   1365\u001b[0m \u001b[43m    \u001b[49m\u001b[43mordering_fields\u001b[49m\u001b[38;5;241;43m=\u001b[39;49m\u001b[43mordering_field_names\u001b[49m\u001b[43m,\u001b[49m\n\u001b[1;32m   1366\u001b[0m \u001b[43m    \u001b[49m\u001b[43mwriter_heap_size\u001b[49m\u001b[38;5;241;43m=\u001b[39;49m\u001b[43mwriter_heap_size\u001b[49m\u001b[43m,\u001b[49m\n\u001b[1;32m   1367\u001b[0m \u001b[43m\u001b[49m\u001b[43m)\u001b[49m\n",
      "File \u001b[0;32m~/anaconda3/envs/graphRAG/lib/python3.11/site-packages/lancedb/fts.py:109\u001b[0m, in \u001b[0;36mpopulate_index\u001b[0;34m(index, table, fields, writer_heap_size, ordering_fields)\u001b[0m\n\u001b[1;32m    107\u001b[0m     f \u001b[38;5;241m=\u001b[39m table\u001b[38;5;241m.\u001b[39mschema\u001b[38;5;241m.\u001b[39mfield(name)  \u001b[38;5;66;03m# raises KeyError if not found\u001b[39;00m\n\u001b[1;32m    108\u001b[0m \u001b[38;5;28;01mexcept\u001b[39;00m \u001b[38;5;167;01mKeyError\u001b[39;00m:\n\u001b[0;32m--> 109\u001b[0m     f \u001b[38;5;241m=\u001b[39m \u001b[43mresolve_path\u001b[49m\u001b[43m(\u001b[49m\u001b[43mtable\u001b[49m\u001b[38;5;241;43m.\u001b[39;49m\u001b[43mschema\u001b[49m\u001b[43m,\u001b[49m\u001b[43m \u001b[49m\u001b[43mname\u001b[49m\u001b[43m)\u001b[49m\n\u001b[1;32m    110\u001b[0m     nested\u001b[38;5;241m.\u001b[39mappend(name)\n\u001b[1;32m    112\u001b[0m \u001b[38;5;28;01mif\u001b[39;00m \u001b[38;5;129;01mnot\u001b[39;00m pa\u001b[38;5;241m.\u001b[39mtypes\u001b[38;5;241m.\u001b[39mis_string(f\u001b[38;5;241m.\u001b[39mtype) \u001b[38;5;129;01mand\u001b[39;00m \u001b[38;5;129;01mnot\u001b[39;00m pa\u001b[38;5;241m.\u001b[39mtypes\u001b[38;5;241m.\u001b[39mis_large_string(f\u001b[38;5;241m.\u001b[39mtype):\n",
      "File \u001b[0;32m~/anaconda3/envs/graphRAG/lib/python3.11/site-packages/lancedb/fts.py:164\u001b[0m, in \u001b[0;36mresolve_path\u001b[0;34m(schema, field_name)\u001b[0m\n\u001b[1;32m    150\u001b[0m \u001b[38;5;250m\u001b[39m\u001b[38;5;124;03m\"\"\"\u001b[39;00m\n\u001b[1;32m    151\u001b[0m \u001b[38;5;124;03mResolve a nested field path to a list of field names\u001b[39;00m\n\u001b[1;32m    152\u001b[0m \n\u001b[0;32m   (...)\u001b[0m\n\u001b[1;32m    161\u001b[0m \u001b[38;5;124;03m    The resolved path\u001b[39;00m\n\u001b[1;32m    162\u001b[0m \u001b[38;5;124;03m\"\"\"\u001b[39;00m\n\u001b[1;32m    163\u001b[0m path \u001b[38;5;241m=\u001b[39m field_name\u001b[38;5;241m.\u001b[39msplit(\u001b[38;5;124m\"\u001b[39m\u001b[38;5;124m.\u001b[39m\u001b[38;5;124m\"\u001b[39m)\n\u001b[0;32m--> 164\u001b[0m field \u001b[38;5;241m=\u001b[39m \u001b[43mschema\u001b[49m\u001b[38;5;241;43m.\u001b[39;49m\u001b[43mfield\u001b[49m\u001b[43m(\u001b[49m\u001b[43mpath\u001b[49m\u001b[38;5;241;43m.\u001b[39;49m\u001b[43mpop\u001b[49m\u001b[43m(\u001b[49m\u001b[38;5;241;43m0\u001b[39;49m\u001b[43m)\u001b[49m\u001b[43m)\u001b[49m\n\u001b[1;32m    165\u001b[0m \u001b[38;5;28;01mfor\u001b[39;00m segment \u001b[38;5;129;01min\u001b[39;00m path:\n\u001b[1;32m    166\u001b[0m     \u001b[38;5;28;01mif\u001b[39;00m pa\u001b[38;5;241m.\u001b[39mtypes\u001b[38;5;241m.\u001b[39mis_struct(field\u001b[38;5;241m.\u001b[39mtype):\n",
      "File \u001b[0;32m~/anaconda3/envs/graphRAG/lib/python3.11/site-packages/pyarrow/types.pxi:2792\u001b[0m, in \u001b[0;36mpyarrow.lib.Schema.field\u001b[0;34m()\u001b[0m\n",
      "\u001b[0;31mKeyError\u001b[0m: 'Column subgraph does not exist in schema'"
     ]
    }
   ],
   "source": [
    "graph_agent = GraphAgent()\n",
    "graph_agent.create_vector_db()"
   ]
  },
  {
   "cell_type": "code",
   "execution_count": 18,
   "metadata": {},
   "outputs": [
    {
     "data": {
      "image/png": "[encoded data removed]",
      "text/plain": [
       "<IPython.core.display.Image object>"
      ]
     },
     "execution_count": 18,
     "metadata": {},
     "output_type": "execute_result"
    }
   ],
   "source": [
    "from IPython.display import Image, display\n",
    "Image(graph_agent.agent.get_graph().draw_mermaid_png())"
   ]
  },
  {
   "cell_type": "code",
   "execution_count": 19,
   "metadata": {},
   "outputs": [
    {
     "name": "stdout",
     "output_type": "stream",
     "text": [
      "I am a graph agent designed to help translate natural language queries into graph database queries and perform graph-based algorithms. Whether you're looking for data retrieval or analysis of graph networks, I'm here to help you explore and understand the graph data. How can I assist you today?\n"
     ]
    }
   ],
   "source": [
    "\n",
    "print(graph_agent.query_graph(\"who are you?\"))"
   ]
  },
  {
   "cell_type": "code",
   "execution_count": 20,
   "metadata": {},
   "outputs": [
    {
     "name": "stdout",
     "output_type": "stream",
     "text": [
      "\n",
      "\n",
      "\u001b[1m> Entering new ArangoGraphQAChain chain...\u001b[0m\n",
      "AQL Query (1):\u001b[32;1m\u001b[1;3m\n",
      "WITH Country\n",
      "RETURN LENGTH(\n",
      "  FOR country IN Country\n",
      "    COLLECT WITH COUNT INTO total\n",
      "    RETURN total\n",
      ")\n",
      "\u001b[0m\n",
      "AQL Result:\n",
      "\u001b[32;1m\u001b[1;3m[None]\u001b[0m\n",
      "\n",
      "\u001b[1m> Finished chain.\u001b[0m\n",
      "\n",
      "\n",
      "\u001b[1m> Entering new ArangoGraphQAChain chain...\u001b[0m\n",
      "AQL Query (1):\u001b[32;1m\u001b[1;3m\n",
      "WITH Country\n",
      "RETURN LENGTH((FOR c IN Country RETURN c))\n",
      "\u001b[0m\n",
      "AQL Result:\n",
      "\u001b[32;1m\u001b[1;3m[22]\u001b[0m\n",
      "\n",
      "\u001b[1m> Finished chain.\u001b[0m\n"
     ]
    },
    {
     "data": {
      "text/plain": [
       "'There are 22 countries in the graph.'"
      ]
     },
     "execution_count": 20,
     "metadata": {},
     "output_type": "execute_result"
    }
   ],
   "source": [
    "graph_agent.query_graph(query = \"how many countries are there in the graph?\")"
   ]
  },
  {
   "cell_type": "code",
   "execution_count": 21,
   "metadata": {},
   "outputs": [
    {
     "name": "stdout",
     "output_type": "stream",
     "text": [
      "\n",
      "* Generating NetworkX code\n",
      "import networkx as nx\n",
      "\n",
      "# Step 1: Identify event nodes.\n",
      "# In our schema, event nodes come from the \"Event\" collection.\n",
      "# We assume that the node ids for events start with \"Event/\".\n",
      "event_nodes = [node for node, attr in G_adb.nodes(data=True) if str(node).startswith(\"Event/\")]\n",
      "\n",
      "# Step 2: Compute degree centrality for all nodes using NetworkX's built-in function.\n",
      "centrality = nx.degree_centrality(G_adb)\n",
      "\n",
      "# Step 3: Filter the centrality scores to only include event nodes.\n",
      "event_centrality = {node: centrality[node] for node in event_nodes if node in centrality}\n",
      "\n",
      "# Step 4: Identify the event node with the highest centrality.\n",
      "if event_centrality:\n",
      "    best_event = max(event_centrality, key=event_centrality.get)\n",
      "    best_score = event_centrality[best_event]\n",
      "else:\n",
      "    best_event = None\n",
      "    best_score = None\n",
      "\n",
      "# Step 5: Set the FINAL_RESULT variable with a short, concise answer.\n",
      "FINAL_RESULT = f\"The most impactful event is {best_event} with a degree centrality of {best_score}, indicating it is the most connected node among events.\" \n",
      "\n",
      "print(FINAL_RESULT)\n"
     ]
    },
    {
     "name": "stderr",
     "output_type": "stream",
     "text": [
      "thread 'tokio-runtime-worker' panicked at /root/.cargo/registry/src/index.crates.io-6f17d22bba15001f/arangors-graph-exporter-0.0.9/src/sharding.rs:279:26:\n",
      "Could not send to channel!: SendError { .. }\n",
      "note: run with `RUST_BACKTRACE=1` environment variable to display a backtrace\n",
      "thread '<unnamed>' panicked at /root/.cargo/registry/src/index.crates.io-6f17d22bba15001f/arangors-graph-exporter-0.0.9/src/sharding.rs:285:21:\n",
      "called `Result::unwrap()` on an `Err` value: JoinError::Panic(Id(1708), ...)\n"
     ]
    },
    {
     "name": "stdout",
     "output_type": "stream",
     "text": [
      "\n",
      "* Generating NetworkX code\n",
      "import networkx as nx\n",
      "\n",
      "# Compute degree centrality for all nodes in the graph\n",
      "centrality = nx.degree_centrality(G_adb)\n",
      "\n",
      "# Filter nodes that are of type 'event'. Here we assume event nodes have IDs starting with \"Event/\"\n",
      "event_nodes = {node: score for node, score in centrality.items() if isinstance(node, str) and node.startswith(\"Event/\")}\n",
      "\n",
      "# Identify the event node with the highest centrality score\n",
      "if event_nodes:\n",
      "    most_impactful_event = max(event_nodes, key=event_nodes.get)\n",
      "    highest_score = event_nodes[most_impactful_event]\n",
      "    # Explanation: this node is most impactful because it has the highest degree centrality,\n",
      "    # meaning it is the most connected node, linking to various related nodes (such as actors,\n",
      "    # locations, sources, etc.) and thus holds a critical position in the graph.\n",
      "    FINAL_RESULT = f\"{most_impactful_event} is the most impactful event (degree centrality: {highest_score:.3f}).\"\n",
      "else:\n",
      "    FINAL_RESULT = \"No event nodes found.\" \n",
      "\n",
      "print(FINAL_RESULT)\n"
     ]
    },
    {
     "name": "stderr",
     "output_type": "stream",
     "text": [
      "thread 'tokio-runtime-worker' panicked at /root/.cargo/registry/src/index.crates.io-6f17d22bba15001f/arangors-graph-exporter-0.0.9/src/sharding.rs:279:26:\n",
      "Could not send to channel!: SendError { .. }\n",
      "thread '<unnamed>' panicked at /root/.cargo/registry/src/index.crates.io-6f17d22bba15001f/arangors-graph-exporter-0.0.9/src/sharding.rs:285:21:\n",
      "called `Result::unwrap()` on an `Err` value: JoinError::Panic(Id(2041), ...)\n"
     ]
    },
    {
     "name": "stdout",
     "output_type": "stream",
     "text": [
      "\n",
      "* Generating NetworkX code\n",
      "import networkx as nx\n",
      "\n",
      "# Assuming that event nodes have an identifier that starts with \"Event/\"\n",
      "event_nodes = [n for n, attr in G_adb.nodes(data=True) if str(n).startswith('Event/')]\n",
      "\n",
      "# Compute degree centrality using NetworkX's degree_centrality function.\n",
      "deg_centrality = nx.degree_centrality(G_adb)\n",
      "\n",
      "# Filter degree centrality to only include event nodes.\n",
      "event_centrality = {node: deg_centrality[node] for node in event_nodes if node in deg_centrality}\n",
      "\n",
      "# Identify the event node with the highest degree centrality.\n",
      "most_influential_event = max(event_centrality, key=event_centrality.get)\n",
      "\n",
      "# Explanation: A higher degree centrality means the node has more direct connections\n",
      "# to various other nodes (like Actors, Locations, Sources, etc.), indicating that the event\n",
      "# is more central and influential in the graph's topology.\n",
      "FINAL_RESULT = (f\"{most_influential_event} is the most influential event node with a degree centrality \"\n",
      "                f\"of {event_centrality[most_influential_event]:.4f}, showing it is highly connected to other entities.\")\n",
      "\n",
      "# For exec() testing, you can print the FINAL_RESULT\n",
      "print(FINAL_RESULT)\n"
     ]
    },
    {
     "name": "stderr",
     "output_type": "stream",
     "text": [
      "thread 'tokio-runtime-worker' panicked at /root/.cargo/registry/src/index.crates.io-6f17d22bba15001f/arangors-graph-exporter-0.0.9/src/sharding.rs:279:26:\n",
      "Could not send to channel!: SendError { .. }\n",
      "thread '<unnamed>' panicked at /root/.cargo/registry/src/index.crates.io-6f17d22bba15001f/arangors-graph-exporter-0.0.9/src/sharding.rs:285:21:\n",
      "called `Result::unwrap()` on an `Err` value: JoinError::Panic(Id(2402), ...)\n"
     ]
    },
    {
     "name": "stdout",
     "output_type": "stream",
     "text": [
      "\n",
      "* Executing code\n",
      "FINAL_RESULT: None\n",
      "\n",
      "* Formulating final answer\n",
      "\n",
      "* Generating NetworkX code\n",
      "import networkx as nx\n",
      "\n",
      "# Step 1: Filter nodes that are of type \"event\"\n",
      "# We'll first try to get nodes by checking the node attribute \"type\", if it exists, otherwise we filter by node id prefix \"Event/\"\n",
      "event_nodes = [n for n, data in G_adb.nodes(data=True) if data.get('type', '').lower() == 'event']\n",
      "if not event_nodes:\n",
      "    # Fallback: assume event nodes have IDs starting with \"Event/\"\n",
      "    event_nodes = [n for n in G_adb.nodes() if isinstance(n, str) and n.startswith(\"Event/\")]\n",
      "\n",
      "# Step 2: Compute betweenness centrality for the entire graph using NetworkX algorithm\n",
      "centrality = nx.betweenness_centrality(G_adb)\n",
      "\n",
      "# Step 3: Filter centrality values for event nodes only\n",
      "event_centrality = {n: centrality.get(n, 0) for n in event_nodes}\n",
      "\n",
      "# Step 4: Determine the event node with the highest centrality measure\n",
      "if event_centrality:\n",
      "    most_impactful_event = max(event_centrality, key=event_centrality.get)\n",
      "else:\n",
      "    most_impactful_event = None\n",
      "\n",
      "# Step 5: Infer result: This event node is the most impactful because it has many connections or serves as a crucial bridge.\n",
      "if most_impactful_event is not None:\n",
      "    FINAL_RESULT = f\"{most_impactful_event} (highest betweenness centrality: {event_centrality[most_impactful_event]:.4f})\"\n",
      "else:\n",
      "    FINAL_RESULT = \"No event node found.\"\n",
      "\n",
      "print(FINAL_RESULT)\n"
     ]
    },
    {
     "ename": "KeyboardInterrupt",
     "evalue": "",
     "output_type": "error",
     "traceback": [
      "\u001b[0;31m---------------------------------------------------------------------------\u001b[0m",
      "\u001b[0;31mKeyboardInterrupt\u001b[0m                         Traceback (most recent call last)",
      "File \u001b[0;32m~/anaconda3/envs/graphRAG/lib/python3.11/site-packages/langchain_core/runnables/config.py:553\u001b[0m, in \u001b[0;36mget_executor_for_config\u001b[0;34m(config)\u001b[0m\n\u001b[1;32m    550\u001b[0m \u001b[38;5;28;01mwith\u001b[39;00m ContextThreadPoolExecutor(\n\u001b[1;32m    551\u001b[0m     max_workers\u001b[38;5;241m=\u001b[39mconfig\u001b[38;5;241m.\u001b[39mget(\u001b[38;5;124m\"\u001b[39m\u001b[38;5;124mmax_concurrency\u001b[39m\u001b[38;5;124m\"\u001b[39m)\n\u001b[1;32m    552\u001b[0m ) \u001b[38;5;28;01mas\u001b[39;00m executor:\n\u001b[0;32m--> 553\u001b[0m     \u001b[38;5;28;01myield\u001b[39;00m executor\n",
      "File \u001b[0;32m~/anaconda3/envs/graphRAG/lib/python3.11/site-packages/langgraph/prebuilt/tool_node.py:238\u001b[0m, in \u001b[0;36mToolNode._func\u001b[0;34m(self, input, config, store)\u001b[0m\n\u001b[1;32m    237\u001b[0m \u001b[38;5;28;01mwith\u001b[39;00m get_executor_for_config(config) \u001b[38;5;28;01mas\u001b[39;00m executor:\n\u001b[0;32m--> 238\u001b[0m     outputs \u001b[38;5;241m=\u001b[39m [\n\u001b[1;32m    239\u001b[0m         \u001b[38;5;241m*\u001b[39mexecutor\u001b[38;5;241m.\u001b[39mmap(\u001b[38;5;28mself\u001b[39m\u001b[38;5;241m.\u001b[39m_run_one, tool_calls, input_types, config_list)\n\u001b[1;32m    240\u001b[0m     ]\n\u001b[1;32m    242\u001b[0m \u001b[38;5;66;03m# preserve existing behavior for non-command tool outputs for backwards\u001b[39;00m\n\u001b[1;32m    243\u001b[0m \u001b[38;5;66;03m# compatibility\u001b[39;00m\n",
      "File \u001b[0;32m~/anaconda3/envs/graphRAG/lib/python3.11/concurrent/futures/_base.py:619\u001b[0m, in \u001b[0;36mExecutor.map.<locals>.result_iterator\u001b[0;34m()\u001b[0m\n\u001b[1;32m    618\u001b[0m \u001b[38;5;28;01mif\u001b[39;00m timeout \u001b[38;5;129;01mis\u001b[39;00m \u001b[38;5;28;01mNone\u001b[39;00m:\n\u001b[0;32m--> 619\u001b[0m     \u001b[38;5;28;01myield\u001b[39;00m \u001b[43m_result_or_cancel\u001b[49m\u001b[43m(\u001b[49m\u001b[43mfs\u001b[49m\u001b[38;5;241;43m.\u001b[39;49m\u001b[43mpop\u001b[49m\u001b[43m(\u001b[49m\u001b[43m)\u001b[49m\u001b[43m)\u001b[49m\n\u001b[1;32m    620\u001b[0m \u001b[38;5;28;01melse\u001b[39;00m:\n",
      "File \u001b[0;32m~/anaconda3/envs/graphRAG/lib/python3.11/concurrent/futures/_base.py:317\u001b[0m, in \u001b[0;36m_result_or_cancel\u001b[0;34m(***failed resolving arguments***)\u001b[0m\n\u001b[1;32m    316\u001b[0m \u001b[38;5;28;01mtry\u001b[39;00m:\n\u001b[0;32m--> 317\u001b[0m     \u001b[38;5;28;01mreturn\u001b[39;00m \u001b[43mfut\u001b[49m\u001b[38;5;241;43m.\u001b[39;49m\u001b[43mresult\u001b[49m\u001b[43m(\u001b[49m\u001b[43mtimeout\u001b[49m\u001b[43m)\u001b[49m\n\u001b[1;32m    318\u001b[0m \u001b[38;5;28;01mfinally\u001b[39;00m:\n",
      "File \u001b[0;32m~/anaconda3/envs/graphRAG/lib/python3.11/concurrent/futures/_base.py:451\u001b[0m, in \u001b[0;36mFuture.result\u001b[0;34m(self, timeout)\u001b[0m\n\u001b[1;32m    449\u001b[0m     \u001b[38;5;28;01mreturn\u001b[39;00m \u001b[38;5;28mself\u001b[39m\u001b[38;5;241m.\u001b[39m__get_result()\n\u001b[0;32m--> 451\u001b[0m \u001b[38;5;28;43mself\u001b[39;49m\u001b[38;5;241;43m.\u001b[39;49m\u001b[43m_condition\u001b[49m\u001b[38;5;241;43m.\u001b[39;49m\u001b[43mwait\u001b[49m\u001b[43m(\u001b[49m\u001b[43mtimeout\u001b[49m\u001b[43m)\u001b[49m\n\u001b[1;32m    453\u001b[0m \u001b[38;5;28;01mif\u001b[39;00m \u001b[38;5;28mself\u001b[39m\u001b[38;5;241m.\u001b[39m_state \u001b[38;5;129;01min\u001b[39;00m [CANCELLED, CANCELLED_AND_NOTIFIED]:\n",
      "File \u001b[0;32m~/anaconda3/envs/graphRAG/lib/python3.11/threading.py:320\u001b[0m, in \u001b[0;36mCondition.wait\u001b[0;34m(self, timeout)\u001b[0m\n\u001b[1;32m    319\u001b[0m \u001b[38;5;28;01mif\u001b[39;00m timeout \u001b[38;5;129;01mis\u001b[39;00m \u001b[38;5;28;01mNone\u001b[39;00m:\n\u001b[0;32m--> 320\u001b[0m     \u001b[43mwaiter\u001b[49m\u001b[38;5;241;43m.\u001b[39;49m\u001b[43macquire\u001b[49m\u001b[43m(\u001b[49m\u001b[43m)\u001b[49m\n\u001b[1;32m    321\u001b[0m     gotit \u001b[38;5;241m=\u001b[39m \u001b[38;5;28;01mTrue\u001b[39;00m\n",
      "\u001b[0;31mKeyboardInterrupt\u001b[0m: ",
      "\nDuring handling of the above exception, another exception occurred:\n",
      "\u001b[0;31mKeyboardInterrupt\u001b[0m                         Traceback (most recent call last)",
      "Cell \u001b[0;32mIn[21], line 1\u001b[0m\n\u001b[0;32m----> 1\u001b[0m \u001b[43mgraph_agent\u001b[49m\u001b[38;5;241;43m.\u001b[39;49m\u001b[43mquery_graph\u001b[49m\u001b[43m(\u001b[49m\u001b[38;5;124;43m\"\u001b[39;49m\u001b[38;5;124;43mwhat is the most impactful node of type event in the graph? explain why\u001b[39;49m\u001b[38;5;124;43m\"\u001b[39;49m\u001b[43m)\u001b[49m\n",
      "File \u001b[0;32m~/Jing/RAG/GraphRAG_adb/graph_agent.py:245\u001b[0m, in \u001b[0;36mGraphAgent.query_graph\u001b[0;34m(self, query)\u001b[0m\n\u001b[1;32m    242\u001b[0m \u001b[38;5;28;01mdef\u001b[39;00m \u001b[38;5;21mquery_graph\u001b[39m(\u001b[38;5;28mself\u001b[39m, query):\n\u001b[1;32m    243\u001b[0m     \u001b[38;5;66;03m# \u001b[39;00m\n\u001b[1;32m    244\u001b[0m     messages \u001b[38;5;241m=\u001b[39m [{\u001b[38;5;124m\"\u001b[39m\u001b[38;5;124mrole\u001b[39m\u001b[38;5;124m\"\u001b[39m: \u001b[38;5;124m\"\u001b[39m\u001b[38;5;124muser\u001b[39m\u001b[38;5;124m\"\u001b[39m, \u001b[38;5;124m\"\u001b[39m\u001b[38;5;124mcontent\u001b[39m\u001b[38;5;124m\"\u001b[39m: query}]\n\u001b[0;32m--> 245\u001b[0m     final_state \u001b[38;5;241m=\u001b[39m \u001b[38;5;28;43mself\u001b[39;49m\u001b[38;5;241;43m.\u001b[39;49m\u001b[43magent\u001b[49m\u001b[38;5;241;43m.\u001b[39;49m\u001b[43minvoke\u001b[49m\u001b[43m(\u001b[49m\u001b[43m{\u001b[49m\u001b[38;5;124;43m\"\u001b[39;49m\u001b[38;5;124;43mmessages\u001b[39;49m\u001b[38;5;124;43m\"\u001b[39;49m\u001b[43m:\u001b[49m\u001b[43m \u001b[49m\u001b[43mmessages\u001b[49m\u001b[43m}\u001b[49m\u001b[43m)\u001b[49m\n\u001b[1;32m    246\u001b[0m     \u001b[38;5;28mself\u001b[39m\u001b[38;5;241m.\u001b[39mhistory\u001b[38;5;241m.\u001b[39mappend({\u001b[38;5;124m\"\u001b[39m\u001b[38;5;124mmessages\u001b[39m\u001b[38;5;124m\"\u001b[39m: messages, \u001b[38;5;124m\"\u001b[39m\u001b[38;5;124mfinal_state\u001b[39m\u001b[38;5;124m\"\u001b[39m: final_state})\n\u001b[1;32m    248\u001b[0m     \u001b[38;5;28;01mreturn\u001b[39;00m final_state[\u001b[38;5;124m\"\u001b[39m\u001b[38;5;124mmessages\u001b[39m\u001b[38;5;124m\"\u001b[39m][\u001b[38;5;241m-\u001b[39m\u001b[38;5;241m1\u001b[39m]\u001b[38;5;241m.\u001b[39mcontent\n",
      "File \u001b[0;32m~/anaconda3/envs/graphRAG/lib/python3.11/site-packages/langgraph/pregel/__init__.py:2142\u001b[0m, in \u001b[0;36mPregel.invoke\u001b[0;34m(self, input, config, stream_mode, output_keys, interrupt_before, interrupt_after, debug, **kwargs)\u001b[0m\n\u001b[1;32m   2140\u001b[0m \u001b[38;5;28;01melse\u001b[39;00m:\n\u001b[1;32m   2141\u001b[0m     chunks \u001b[38;5;241m=\u001b[39m []\n\u001b[0;32m-> 2142\u001b[0m \u001b[43m\u001b[49m\u001b[38;5;28;43;01mfor\u001b[39;49;00m\u001b[43m \u001b[49m\u001b[43mchunk\u001b[49m\u001b[43m \u001b[49m\u001b[38;5;129;43;01min\u001b[39;49;00m\u001b[43m \u001b[49m\u001b[38;5;28;43mself\u001b[39;49m\u001b[38;5;241;43m.\u001b[39;49m\u001b[43mstream\u001b[49m\u001b[43m(\u001b[49m\n\u001b[1;32m   2143\u001b[0m \u001b[43m    \u001b[49m\u001b[38;5;28;43minput\u001b[39;49m\u001b[43m,\u001b[49m\n\u001b[1;32m   2144\u001b[0m \u001b[43m    \u001b[49m\u001b[43mconfig\u001b[49m\u001b[43m,\u001b[49m\n\u001b[1;32m   2145\u001b[0m \u001b[43m    \u001b[49m\u001b[43mstream_mode\u001b[49m\u001b[38;5;241;43m=\u001b[39;49m\u001b[43mstream_mode\u001b[49m\u001b[43m,\u001b[49m\n\u001b[1;32m   2146\u001b[0m \u001b[43m    \u001b[49m\u001b[43moutput_keys\u001b[49m\u001b[38;5;241;43m=\u001b[39;49m\u001b[43moutput_keys\u001b[49m\u001b[43m,\u001b[49m\n\u001b[1;32m   2147\u001b[0m \u001b[43m    \u001b[49m\u001b[43minterrupt_before\u001b[49m\u001b[38;5;241;43m=\u001b[39;49m\u001b[43minterrupt_before\u001b[49m\u001b[43m,\u001b[49m\n\u001b[1;32m   2148\u001b[0m \u001b[43m    \u001b[49m\u001b[43minterrupt_after\u001b[49m\u001b[38;5;241;43m=\u001b[39;49m\u001b[43minterrupt_after\u001b[49m\u001b[43m,\u001b[49m\n\u001b[1;32m   2149\u001b[0m \u001b[43m    \u001b[49m\u001b[43mdebug\u001b[49m\u001b[38;5;241;43m=\u001b[39;49m\u001b[43mdebug\u001b[49m\u001b[43m,\u001b[49m\n\u001b[1;32m   2150\u001b[0m \u001b[43m    \u001b[49m\u001b[38;5;241;43m*\u001b[39;49m\u001b[38;5;241;43m*\u001b[39;49m\u001b[43mkwargs\u001b[49m\u001b[43m,\u001b[49m\n\u001b[1;32m   2151\u001b[0m \u001b[43m\u001b[49m\u001b[43m)\u001b[49m\u001b[43m:\u001b[49m\n\u001b[1;32m   2152\u001b[0m \u001b[43m    \u001b[49m\u001b[38;5;28;43;01mif\u001b[39;49;00m\u001b[43m \u001b[49m\u001b[43mstream_mode\u001b[49m\u001b[43m \u001b[49m\u001b[38;5;241;43m==\u001b[39;49m\u001b[43m \u001b[49m\u001b[38;5;124;43m\"\u001b[39;49m\u001b[38;5;124;43mvalues\u001b[39;49m\u001b[38;5;124;43m\"\u001b[39;49m\u001b[43m:\u001b[49m\n\u001b[1;32m   2153\u001b[0m \u001b[43m        \u001b[49m\u001b[43mlatest\u001b[49m\u001b[43m \u001b[49m\u001b[38;5;241;43m=\u001b[39;49m\u001b[43m \u001b[49m\u001b[43mchunk\u001b[49m\n",
      "File \u001b[0;32m~/anaconda3/envs/graphRAG/lib/python3.11/site-packages/langgraph/pregel/__init__.py:1797\u001b[0m, in \u001b[0;36mPregel.stream\u001b[0;34m(self, input, config, stream_mode, output_keys, interrupt_before, interrupt_after, debug, subgraphs)\u001b[0m\n\u001b[1;32m   1791\u001b[0m     \u001b[38;5;66;03m# Similarly to Bulk Synchronous Parallel / Pregel model\u001b[39;00m\n\u001b[1;32m   1792\u001b[0m     \u001b[38;5;66;03m# computation proceeds in steps, while there are channel updates.\u001b[39;00m\n\u001b[1;32m   1793\u001b[0m     \u001b[38;5;66;03m# Channel updates from step N are only visible in step N+1\u001b[39;00m\n\u001b[1;32m   1794\u001b[0m     \u001b[38;5;66;03m# channels are guaranteed to be immutable for the duration of the step,\u001b[39;00m\n\u001b[1;32m   1795\u001b[0m     \u001b[38;5;66;03m# with channel updates applied only at the transition between steps.\u001b[39;00m\n\u001b[1;32m   1796\u001b[0m     \u001b[38;5;28;01mwhile\u001b[39;00m loop\u001b[38;5;241m.\u001b[39mtick(input_keys\u001b[38;5;241m=\u001b[39m\u001b[38;5;28mself\u001b[39m\u001b[38;5;241m.\u001b[39minput_channels):\n\u001b[0;32m-> 1797\u001b[0m \u001b[43m        \u001b[49m\u001b[38;5;28;43;01mfor\u001b[39;49;00m\u001b[43m \u001b[49m\u001b[43m_\u001b[49m\u001b[43m \u001b[49m\u001b[38;5;129;43;01min\u001b[39;49;00m\u001b[43m \u001b[49m\u001b[43mrunner\u001b[49m\u001b[38;5;241;43m.\u001b[39;49m\u001b[43mtick\u001b[49m\u001b[43m(\u001b[49m\n\u001b[1;32m   1798\u001b[0m \u001b[43m            \u001b[49m\u001b[43mloop\u001b[49m\u001b[38;5;241;43m.\u001b[39;49m\u001b[43mtasks\u001b[49m\u001b[38;5;241;43m.\u001b[39;49m\u001b[43mvalues\u001b[49m\u001b[43m(\u001b[49m\u001b[43m)\u001b[49m\u001b[43m,\u001b[49m\n\u001b[1;32m   1799\u001b[0m \u001b[43m            \u001b[49m\u001b[43mtimeout\u001b[49m\u001b[38;5;241;43m=\u001b[39;49m\u001b[38;5;28;43mself\u001b[39;49m\u001b[38;5;241;43m.\u001b[39;49m\u001b[43mstep_timeout\u001b[49m\u001b[43m,\u001b[49m\n\u001b[1;32m   1800\u001b[0m \u001b[43m            \u001b[49m\u001b[43mretry_policy\u001b[49m\u001b[38;5;241;43m=\u001b[39;49m\u001b[38;5;28;43mself\u001b[39;49m\u001b[38;5;241;43m.\u001b[39;49m\u001b[43mretry_policy\u001b[49m\u001b[43m,\u001b[49m\n\u001b[1;32m   1801\u001b[0m \u001b[43m            \u001b[49m\u001b[43mget_waiter\u001b[49m\u001b[38;5;241;43m=\u001b[39;49m\u001b[43mget_waiter\u001b[49m\u001b[43m,\u001b[49m\n\u001b[1;32m   1802\u001b[0m \u001b[43m        \u001b[49m\u001b[43m)\u001b[49m\u001b[43m:\u001b[49m\n\u001b[1;32m   1803\u001b[0m \u001b[43m            \u001b[49m\u001b[38;5;66;43;03m# emit output\u001b[39;49;00m\n\u001b[1;32m   1804\u001b[0m \u001b[43m            \u001b[49m\u001b[38;5;28;43;01myield from\u001b[39;49;00m\u001b[43m \u001b[49m\u001b[43moutput\u001b[49m\u001b[43m(\u001b[49m\u001b[43m)\u001b[49m\n\u001b[1;32m   1805\u001b[0m \u001b[38;5;66;03m# emit output\u001b[39;00m\n",
      "File \u001b[0;32m~/anaconda3/envs/graphRAG/lib/python3.11/site-packages/langgraph/pregel/runner.py:230\u001b[0m, in \u001b[0;36mPregelRunner.tick\u001b[0;34m(self, tasks, reraise, timeout, retry_policy, get_waiter)\u001b[0m\n\u001b[1;32m    228\u001b[0m t \u001b[38;5;241m=\u001b[39m tasks[\u001b[38;5;241m0\u001b[39m]\n\u001b[1;32m    229\u001b[0m \u001b[38;5;28;01mtry\u001b[39;00m:\n\u001b[0;32m--> 230\u001b[0m     \u001b[43mrun_with_retry\u001b[49m\u001b[43m(\u001b[49m\n\u001b[1;32m    231\u001b[0m \u001b[43m        \u001b[49m\u001b[43mt\u001b[49m\u001b[43m,\u001b[49m\n\u001b[1;32m    232\u001b[0m \u001b[43m        \u001b[49m\u001b[43mretry_policy\u001b[49m\u001b[43m,\u001b[49m\n\u001b[1;32m    233\u001b[0m \u001b[43m        \u001b[49m\u001b[43mconfigurable\u001b[49m\u001b[38;5;241;43m=\u001b[39;49m\u001b[43m{\u001b[49m\n\u001b[1;32m    234\u001b[0m \u001b[43m            \u001b[49m\u001b[43mCONFIG_KEY_SEND\u001b[49m\u001b[43m:\u001b[49m\u001b[43m \u001b[49m\u001b[43mpartial\u001b[49m\u001b[43m(\u001b[49m\u001b[43mwriter\u001b[49m\u001b[43m,\u001b[49m\u001b[43m \u001b[49m\u001b[43mt\u001b[49m\u001b[43m)\u001b[49m\u001b[43m,\u001b[49m\n\u001b[1;32m    235\u001b[0m \u001b[43m            \u001b[49m\u001b[43mCONFIG_KEY_CALL\u001b[49m\u001b[43m:\u001b[49m\u001b[43m \u001b[49m\u001b[43mpartial\u001b[49m\u001b[43m(\u001b[49m\u001b[43mcall\u001b[49m\u001b[43m,\u001b[49m\u001b[43m \u001b[49m\u001b[43mt\u001b[49m\u001b[43m)\u001b[49m\u001b[43m,\u001b[49m\n\u001b[1;32m    236\u001b[0m \u001b[43m        \u001b[49m\u001b[43m}\u001b[49m\u001b[43m,\u001b[49m\n\u001b[1;32m    237\u001b[0m \u001b[43m    \u001b[49m\u001b[43m)\u001b[49m\n\u001b[1;32m    238\u001b[0m     \u001b[38;5;28mself\u001b[39m\u001b[38;5;241m.\u001b[39mcommit(t, \u001b[38;5;28;01mNone\u001b[39;00m)\n\u001b[1;32m    239\u001b[0m \u001b[38;5;28;01mexcept\u001b[39;00m \u001b[38;5;167;01mException\u001b[39;00m \u001b[38;5;28;01mas\u001b[39;00m exc:\n",
      "File \u001b[0;32m~/anaconda3/envs/graphRAG/lib/python3.11/site-packages/langgraph/pregel/retry.py:40\u001b[0m, in \u001b[0;36mrun_with_retry\u001b[0;34m(task, retry_policy, configurable)\u001b[0m\n\u001b[1;32m     38\u001b[0m     task\u001b[38;5;241m.\u001b[39mwrites\u001b[38;5;241m.\u001b[39mclear()\n\u001b[1;32m     39\u001b[0m     \u001b[38;5;66;03m# run the task\u001b[39;00m\n\u001b[0;32m---> 40\u001b[0m     \u001b[38;5;28;01mreturn\u001b[39;00m \u001b[43mtask\u001b[49m\u001b[38;5;241;43m.\u001b[39;49m\u001b[43mproc\u001b[49m\u001b[38;5;241;43m.\u001b[39;49m\u001b[43minvoke\u001b[49m\u001b[43m(\u001b[49m\u001b[43mtask\u001b[49m\u001b[38;5;241;43m.\u001b[39;49m\u001b[43minput\u001b[49m\u001b[43m,\u001b[49m\u001b[43m \u001b[49m\u001b[43mconfig\u001b[49m\u001b[43m)\u001b[49m\n\u001b[1;32m     41\u001b[0m \u001b[38;5;28;01mexcept\u001b[39;00m ParentCommand \u001b[38;5;28;01mas\u001b[39;00m exc:\n\u001b[1;32m     42\u001b[0m     ns: \u001b[38;5;28mstr\u001b[39m \u001b[38;5;241m=\u001b[39m config[CONF][CONFIG_KEY_CHECKPOINT_NS]\n",
      "File \u001b[0;32m~/anaconda3/envs/graphRAG/lib/python3.11/site-packages/langgraph/utils/runnable.py:546\u001b[0m, in \u001b[0;36mRunnableSeq.invoke\u001b[0;34m(self, input, config, **kwargs)\u001b[0m\n\u001b[1;32m    542\u001b[0m config \u001b[38;5;241m=\u001b[39m patch_config(\n\u001b[1;32m    543\u001b[0m     config, callbacks\u001b[38;5;241m=\u001b[39mrun_manager\u001b[38;5;241m.\u001b[39mget_child(\u001b[38;5;124mf\u001b[39m\u001b[38;5;124m\"\u001b[39m\u001b[38;5;124mseq:step:\u001b[39m\u001b[38;5;132;01m{\u001b[39;00mi\u001b[38;5;250m \u001b[39m\u001b[38;5;241m+\u001b[39m\u001b[38;5;250m \u001b[39m\u001b[38;5;241m1\u001b[39m\u001b[38;5;132;01m}\u001b[39;00m\u001b[38;5;124m\"\u001b[39m)\n\u001b[1;32m    544\u001b[0m )\n\u001b[1;32m    545\u001b[0m \u001b[38;5;28;01mif\u001b[39;00m i \u001b[38;5;241m==\u001b[39m \u001b[38;5;241m0\u001b[39m:\n\u001b[0;32m--> 546\u001b[0m     \u001b[38;5;28minput\u001b[39m \u001b[38;5;241m=\u001b[39m \u001b[43mstep\u001b[49m\u001b[38;5;241;43m.\u001b[39;49m\u001b[43minvoke\u001b[49m\u001b[43m(\u001b[49m\u001b[38;5;28;43minput\u001b[39;49m\u001b[43m,\u001b[49m\u001b[43m \u001b[49m\u001b[43mconfig\u001b[49m\u001b[43m,\u001b[49m\u001b[43m \u001b[49m\u001b[38;5;241;43m*\u001b[39;49m\u001b[38;5;241;43m*\u001b[39;49m\u001b[43mkwargs\u001b[49m\u001b[43m)\u001b[49m\n\u001b[1;32m    547\u001b[0m \u001b[38;5;28;01melse\u001b[39;00m:\n\u001b[1;32m    548\u001b[0m     \u001b[38;5;28minput\u001b[39m \u001b[38;5;241m=\u001b[39m step\u001b[38;5;241m.\u001b[39minvoke(\u001b[38;5;28minput\u001b[39m, config)\n",
      "File \u001b[0;32m~/anaconda3/envs/graphRAG/lib/python3.11/site-packages/langgraph/utils/runnable.py:310\u001b[0m, in \u001b[0;36mRunnableCallable.invoke\u001b[0;34m(self, input, config, **kwargs)\u001b[0m\n\u001b[1;32m    308\u001b[0m \u001b[38;5;28;01melse\u001b[39;00m:\n\u001b[1;32m    309\u001b[0m     context\u001b[38;5;241m.\u001b[39mrun(_set_config_context, config)\n\u001b[0;32m--> 310\u001b[0m     ret \u001b[38;5;241m=\u001b[39m \u001b[43mcontext\u001b[49m\u001b[38;5;241;43m.\u001b[39;49m\u001b[43mrun\u001b[49m\u001b[43m(\u001b[49m\u001b[38;5;28;43mself\u001b[39;49m\u001b[38;5;241;43m.\u001b[39;49m\u001b[43mfunc\u001b[49m\u001b[43m,\u001b[49m\u001b[43m \u001b[49m\u001b[38;5;241;43m*\u001b[39;49m\u001b[43margs\u001b[49m\u001b[43m,\u001b[49m\u001b[43m \u001b[49m\u001b[38;5;241;43m*\u001b[39;49m\u001b[38;5;241;43m*\u001b[39;49m\u001b[43mkwargs\u001b[49m\u001b[43m)\u001b[49m\n\u001b[1;32m    311\u001b[0m \u001b[38;5;28;01mif\u001b[39;00m \u001b[38;5;28misinstance\u001b[39m(ret, Runnable) \u001b[38;5;129;01mand\u001b[39;00m \u001b[38;5;28mself\u001b[39m\u001b[38;5;241m.\u001b[39mrecurse:\n\u001b[1;32m    312\u001b[0m     \u001b[38;5;28;01mreturn\u001b[39;00m ret\u001b[38;5;241m.\u001b[39minvoke(\u001b[38;5;28minput\u001b[39m, config)\n",
      "File \u001b[0;32m~/anaconda3/envs/graphRAG/lib/python3.11/site-packages/langgraph/prebuilt/tool_node.py:237\u001b[0m, in \u001b[0;36mToolNode._func\u001b[0;34m(self, input, config, store)\u001b[0m\n\u001b[1;32m    235\u001b[0m config_list \u001b[38;5;241m=\u001b[39m get_config_list(config, \u001b[38;5;28mlen\u001b[39m(tool_calls))\n\u001b[1;32m    236\u001b[0m input_types \u001b[38;5;241m=\u001b[39m [input_type] \u001b[38;5;241m*\u001b[39m \u001b[38;5;28mlen\u001b[39m(tool_calls)\n\u001b[0;32m--> 237\u001b[0m \u001b[43m\u001b[49m\u001b[38;5;28;43;01mwith\u001b[39;49;00m\u001b[43m \u001b[49m\u001b[43mget_executor_for_config\u001b[49m\u001b[43m(\u001b[49m\u001b[43mconfig\u001b[49m\u001b[43m)\u001b[49m\u001b[43m \u001b[49m\u001b[38;5;28;43;01mas\u001b[39;49;00m\u001b[43m \u001b[49m\u001b[43mexecutor\u001b[49m\u001b[43m:\u001b[49m\n\u001b[1;32m    238\u001b[0m \u001b[43m    \u001b[49m\u001b[43moutputs\u001b[49m\u001b[43m \u001b[49m\u001b[38;5;241;43m=\u001b[39;49m\u001b[43m \u001b[49m\u001b[43m[\u001b[49m\n\u001b[1;32m    239\u001b[0m \u001b[43m        \u001b[49m\u001b[38;5;241;43m*\u001b[39;49m\u001b[43mexecutor\u001b[49m\u001b[38;5;241;43m.\u001b[39;49m\u001b[43mmap\u001b[49m\u001b[43m(\u001b[49m\u001b[38;5;28;43mself\u001b[39;49m\u001b[38;5;241;43m.\u001b[39;49m\u001b[43m_run_one\u001b[49m\u001b[43m,\u001b[49m\u001b[43m \u001b[49m\u001b[43mtool_calls\u001b[49m\u001b[43m,\u001b[49m\u001b[43m \u001b[49m\u001b[43minput_types\u001b[49m\u001b[43m,\u001b[49m\u001b[43m \u001b[49m\u001b[43mconfig_list\u001b[49m\u001b[43m)\u001b[49m\n\u001b[1;32m    240\u001b[0m \u001b[43m    \u001b[49m\u001b[43m]\u001b[49m\n\u001b[1;32m    242\u001b[0m \u001b[38;5;66;03m# preserve existing behavior for non-command tool outputs for backwards\u001b[39;00m\n\u001b[1;32m    243\u001b[0m \u001b[38;5;66;03m# compatibility\u001b[39;00m\n",
      "File \u001b[0;32m~/anaconda3/envs/graphRAG/lib/python3.11/contextlib.py:155\u001b[0m, in \u001b[0;36m_GeneratorContextManager.__exit__\u001b[0;34m(self, typ, value, traceback)\u001b[0m\n\u001b[1;32m    153\u001b[0m     value \u001b[38;5;241m=\u001b[39m typ()\n\u001b[1;32m    154\u001b[0m \u001b[38;5;28;01mtry\u001b[39;00m:\n\u001b[0;32m--> 155\u001b[0m     \u001b[38;5;28mself\u001b[39m\u001b[38;5;241m.\u001b[39mgen\u001b[38;5;241m.\u001b[39mthrow(typ, value, traceback)\n\u001b[1;32m    156\u001b[0m \u001b[38;5;28;01mexcept\u001b[39;00m \u001b[38;5;167;01mStopIteration\u001b[39;00m \u001b[38;5;28;01mas\u001b[39;00m exc:\n\u001b[1;32m    157\u001b[0m     \u001b[38;5;66;03m# Suppress StopIteration *unless* it's the same exception that\u001b[39;00m\n\u001b[1;32m    158\u001b[0m     \u001b[38;5;66;03m# was passed to throw().  This prevents a StopIteration\u001b[39;00m\n\u001b[1;32m    159\u001b[0m     \u001b[38;5;66;03m# raised inside the \"with\" statement from being suppressed.\u001b[39;00m\n\u001b[1;32m    160\u001b[0m     \u001b[38;5;28;01mreturn\u001b[39;00m exc \u001b[38;5;129;01mis\u001b[39;00m \u001b[38;5;129;01mnot\u001b[39;00m value\n",
      "File \u001b[0;32m~/anaconda3/envs/graphRAG/lib/python3.11/site-packages/langchain_core/runnables/config.py:550\u001b[0m, in \u001b[0;36mget_executor_for_config\u001b[0;34m(config)\u001b[0m\n\u001b[1;32m    541\u001b[0m \u001b[38;5;250m\u001b[39m\u001b[38;5;124;03m\"\"\"Get an executor for a config.\u001b[39;00m\n\u001b[1;32m    542\u001b[0m \n\u001b[1;32m    543\u001b[0m \u001b[38;5;124;03mArgs:\u001b[39;00m\n\u001b[0;32m   (...)\u001b[0m\n\u001b[1;32m    547\u001b[0m \u001b[38;5;124;03m    Generator[Executor, None, None]: The executor.\u001b[39;00m\n\u001b[1;32m    548\u001b[0m \u001b[38;5;124;03m\"\"\"\u001b[39;00m\n\u001b[1;32m    549\u001b[0m config \u001b[38;5;241m=\u001b[39m config \u001b[38;5;129;01mor\u001b[39;00m {}\n\u001b[0;32m--> 550\u001b[0m \u001b[43m\u001b[49m\u001b[38;5;28;43;01mwith\u001b[39;49;00m\u001b[43m \u001b[49m\u001b[43mContextThreadPoolExecutor\u001b[49m\u001b[43m(\u001b[49m\n\u001b[1;32m    551\u001b[0m \u001b[43m    \u001b[49m\u001b[43mmax_workers\u001b[49m\u001b[38;5;241;43m=\u001b[39;49m\u001b[43mconfig\u001b[49m\u001b[38;5;241;43m.\u001b[39;49m\u001b[43mget\u001b[49m\u001b[43m(\u001b[49m\u001b[38;5;124;43m\"\u001b[39;49m\u001b[38;5;124;43mmax_concurrency\u001b[39;49m\u001b[38;5;124;43m\"\u001b[39;49m\u001b[43m)\u001b[49m\n\u001b[1;32m    552\u001b[0m \u001b[43m\u001b[49m\u001b[43m)\u001b[49m\u001b[43m \u001b[49m\u001b[38;5;28;43;01mas\u001b[39;49;00m\u001b[43m \u001b[49m\u001b[43mexecutor\u001b[49m\u001b[43m:\u001b[49m\n\u001b[1;32m    553\u001b[0m \u001b[43m    \u001b[49m\u001b[38;5;28;43;01myield\u001b[39;49;00m\u001b[43m \u001b[49m\u001b[43mexecutor\u001b[49m\n",
      "File \u001b[0;32m~/anaconda3/envs/graphRAG/lib/python3.11/concurrent/futures/_base.py:647\u001b[0m, in \u001b[0;36mExecutor.__exit__\u001b[0;34m(self, exc_type, exc_val, exc_tb)\u001b[0m\n\u001b[1;32m    646\u001b[0m \u001b[38;5;28;01mdef\u001b[39;00m \u001b[38;5;21m__exit__\u001b[39m(\u001b[38;5;28mself\u001b[39m, exc_type, exc_val, exc_tb):\n\u001b[0;32m--> 647\u001b[0m     \u001b[38;5;28;43mself\u001b[39;49m\u001b[38;5;241;43m.\u001b[39;49m\u001b[43mshutdown\u001b[49m\u001b[43m(\u001b[49m\u001b[43mwait\u001b[49m\u001b[38;5;241;43m=\u001b[39;49m\u001b[38;5;28;43;01mTrue\u001b[39;49;00m\u001b[43m)\u001b[49m\n\u001b[1;32m    648\u001b[0m     \u001b[38;5;28;01mreturn\u001b[39;00m \u001b[38;5;28;01mFalse\u001b[39;00m\n",
      "File \u001b[0;32m~/anaconda3/envs/graphRAG/lib/python3.11/concurrent/futures/thread.py:235\u001b[0m, in \u001b[0;36mThreadPoolExecutor.shutdown\u001b[0;34m(self, wait, cancel_futures)\u001b[0m\n\u001b[1;32m    233\u001b[0m \u001b[38;5;28;01mif\u001b[39;00m wait:\n\u001b[1;32m    234\u001b[0m     \u001b[38;5;28;01mfor\u001b[39;00m t \u001b[38;5;129;01min\u001b[39;00m \u001b[38;5;28mself\u001b[39m\u001b[38;5;241m.\u001b[39m_threads:\n\u001b[0;32m--> 235\u001b[0m         \u001b[43mt\u001b[49m\u001b[38;5;241;43m.\u001b[39;49m\u001b[43mjoin\u001b[49m\u001b[43m(\u001b[49m\u001b[43m)\u001b[49m\n",
      "File \u001b[0;32m~/anaconda3/envs/graphRAG/lib/python3.11/threading.py:1112\u001b[0m, in \u001b[0;36mThread.join\u001b[0;34m(self, timeout)\u001b[0m\n\u001b[1;32m   1109\u001b[0m     \u001b[38;5;28;01mraise\u001b[39;00m \u001b[38;5;167;01mRuntimeError\u001b[39;00m(\u001b[38;5;124m\"\u001b[39m\u001b[38;5;124mcannot join current thread\u001b[39m\u001b[38;5;124m\"\u001b[39m)\n\u001b[1;32m   1111\u001b[0m \u001b[38;5;28;01mif\u001b[39;00m timeout \u001b[38;5;129;01mis\u001b[39;00m \u001b[38;5;28;01mNone\u001b[39;00m:\n\u001b[0;32m-> 1112\u001b[0m     \u001b[38;5;28;43mself\u001b[39;49m\u001b[38;5;241;43m.\u001b[39;49m\u001b[43m_wait_for_tstate_lock\u001b[49m\u001b[43m(\u001b[49m\u001b[43m)\u001b[49m\n\u001b[1;32m   1113\u001b[0m \u001b[38;5;28;01melse\u001b[39;00m:\n\u001b[1;32m   1114\u001b[0m     \u001b[38;5;66;03m# the behavior of a negative timeout isn't documented, but\u001b[39;00m\n\u001b[1;32m   1115\u001b[0m     \u001b[38;5;66;03m# historically .join(timeout=x) for x<0 has acted as if timeout=0\u001b[39;00m\n\u001b[1;32m   1116\u001b[0m     \u001b[38;5;28mself\u001b[39m\u001b[38;5;241m.\u001b[39m_wait_for_tstate_lock(timeout\u001b[38;5;241m=\u001b[39m\u001b[38;5;28mmax\u001b[39m(timeout, \u001b[38;5;241m0\u001b[39m))\n",
      "File \u001b[0;32m~/anaconda3/envs/graphRAG/lib/python3.11/threading.py:1132\u001b[0m, in \u001b[0;36mThread._wait_for_tstate_lock\u001b[0;34m(self, block, timeout)\u001b[0m\n\u001b[1;32m   1129\u001b[0m     \u001b[38;5;28;01mreturn\u001b[39;00m\n\u001b[1;32m   1131\u001b[0m \u001b[38;5;28;01mtry\u001b[39;00m:\n\u001b[0;32m-> 1132\u001b[0m     \u001b[38;5;28;01mif\u001b[39;00m \u001b[43mlock\u001b[49m\u001b[38;5;241;43m.\u001b[39;49m\u001b[43macquire\u001b[49m\u001b[43m(\u001b[49m\u001b[43mblock\u001b[49m\u001b[43m,\u001b[49m\u001b[43m \u001b[49m\u001b[43mtimeout\u001b[49m\u001b[43m)\u001b[49m:\n\u001b[1;32m   1133\u001b[0m         lock\u001b[38;5;241m.\u001b[39mrelease()\n\u001b[1;32m   1134\u001b[0m         \u001b[38;5;28mself\u001b[39m\u001b[38;5;241m.\u001b[39m_stop()\n",
      "\u001b[0;31mKeyboardInterrupt\u001b[0m: "
     ]
    }
   ],
   "source": [
    "graph_agent.query_graph(\"what is the most impactful node of type event in the graph? explain why\")"
   ]
  },
  {
   "cell_type": "code",
   "execution_count": 22,
   "metadata": {},
   "outputs": [
    {
     "name": "stdout",
     "output_type": "stream",
     "text": [
      "\n",
      "\n",
      "\u001b[1m> Entering new ArangoGraphQAChain chain...\u001b[0m\n",
      "AQL Query (1):\u001b[32;1m\u001b[1;3m\n",
      "WITH Event, Actor, Location, Source, Country, Region, Class, eventActor, hasLocation, hasSource, inCountry, inRegion, subClass, type\n",
      "LET eventCount = LENGTH(FOR v IN Event RETURN v)\n",
      "LET actorCount = LENGTH(FOR v IN Actor RETURN v)\n",
      "LET locationCount = LENGTH(FOR v IN Location RETURN v)\n",
      "LET sourceCount = LENGTH(FOR v IN Source RETURN v)\n",
      "LET countryCount = LENGTH(FOR v IN Country RETURN v)\n",
      "LET regionCount = LENGTH(FOR v IN Region RETURN v)\n",
      "LET classCount = LENGTH(FOR v IN Class RETURN v)\n",
      "LET nodeCount = eventCount + actorCount + locationCount + sourceCount + countryCount + regionCount + classCount\n",
      "LET eventActorCount = LENGTH(FOR e IN eventActor RETURN e)\n",
      "LET hasLocationCount = LENGTH(FOR e IN hasLocation RETURN e)\n",
      "LET hasSourceCount = LENGTH(FOR e IN hasSource RETURN e)\n",
      "LET inCountryCount = LENGTH(FOR e IN inCountry RETURN e)\n",
      "LET inRegionCount = LENGTH(FOR e IN inRegion RETURN e)\n",
      "LET subClassCount = LENGTH(FOR e IN subClass RETURN e)\n",
      "LET typeCount = LENGTH(FOR e IN type RETURN e)\n",
      "LET connectionCount = eventActorCount + hasLocationCount + hasSourceCount + inCountryCount + inRegionCount + subClassCount + typeCount\n",
      "RETURN { nodeCount: nodeCount, connectionCount: connectionCount }\n",
      "\u001b[0m\n",
      "AQL Result:\n",
      "\u001b[32;1m\u001b[1;3m[{'nodeCount': 80047, 'connectionCount': 321819}]\u001b[0m\n",
      "\n",
      "\u001b[1m> Finished chain.\u001b[0m\n"
     ]
    },
    {
     "data": {
      "text/plain": [
       "'Your graph contains a total of 80,047 nodes along with 321,819 connections between them.'"
      ]
     },
     "execution_count": 22,
     "metadata": {},
     "output_type": "execute_result"
    }
   ],
   "source": [
    "graph_agent.query_graph(\"how many nodes and connections are there in the graph?\")"
   ]
  },
  {
   "cell_type": "code",
   "execution_count": 23,
   "metadata": {},
   "outputs": [
    {
     "name": "stdout",
     "output_type": "stream",
     "text": [
      "\n",
      "* Generating NetworkX code\n",
      "import networkx as nx\n",
      "\n",
      "# Using the pre-built graph object G_adb\n",
      "num_nodes = G_adb.number_of_nodes()\n",
      "num_edges = G_adb.number_of_edges()\n",
      "\n",
      "print(f\"Number of nodes: {num_nodes}\")\n",
      "print(f\"Number of connections (edges): {num_edges}\")\n",
      "\n",
      "FINAL_RESULT = {\"nodes\": num_nodes, \"edges\": num_edges}\n",
      "Number of nodes: 80047\n",
      "Number of connections (edges): 321819\n",
      "\n",
      "* Executing code\n",
      "FINAL_RESULT: {'nodes': 80047, 'edges': 321819}\n",
      "\n",
      "* Formulating final answer\n"
     ]
    },
    {
     "data": {
      "text/plain": [
       "'There are 80,047 nodes and 321,819 connections (edges) in the graph.'"
      ]
     },
     "execution_count": 23,
     "metadata": {},
     "output_type": "execute_result"
    }
   ],
   "source": [
    "graph_agent.query_graph(\"how many nodes and connections are there in the graph? use networkx code\")"
   ]
  },
  {
   "cell_type": "code",
   "execution_count": 24,
   "metadata": {},
   "outputs": [
    {
     "data": {
      "text/plain": [
       "'Based on a vector search, there isn’t any detailed information about an event called \"The Battle of the Bulge.\" It appears that our current records do not include nodes or metadata covering that event. Would you like to search using other terms, or would you like assistance with a different inquiry?'"
      ]
     },
     "execution_count": 24,
     "metadata": {},
     "output_type": "execute_result"
    }
   ],
   "source": [
    "graph_agent.query_graph(\"tell me more about the event 'The Battle of the Bulge'? use vector search\" )"
   ]
  },
  {
   "cell_type": "code",
   "execution_count": 25,
   "metadata": {},
   "outputs": [
    {
     "data": {
      "text/plain": [
       "'Based on the provided context, there are two entries for the event \"Orma youth attack journalists.\" Here are the details from the nodes:\\n\\n• Both entries indicate that the event involved Orma youth attacking journalists who were covering a peace meeting.  \\n• The event is dated January 12, 2013 (with the date stamp 1357948800000.0).  \\n• No fatalities were reported (fatalities: 0.0).  \\n• The geo-coordinates provided are [-2.47, 40.191].  \\n• It is categorized under the label “Violence_against_civilians” and identified as an Event with the unique key KEN3592.\\n\\n(Source: \"Orma youth attack journalists\" node, key KEN3592)'"
      ]
     },
     "execution_count": 25,
     "metadata": {},
     "output_type": "execute_result"
    }
   ],
   "source": [
    "graph_agent.vector_qa(\"tell me more about the event 'Orma youth attack journalists'? use vector search\")"
   ]
  },
  {
   "cell_type": "code",
   "execution_count": null,
   "metadata": {},
   "outputs": [],
   "source": []
  },
  {
   "cell_type": "code",
   "execution_count": 26,
   "metadata": {},
   "outputs": [
    {
     "name": "stdout",
     "output_type": "stream",
     "text": [
      "\n",
      "* Generating NetworkX code\n",
      "import networkx as nx\n",
      "\n",
      "node_id = \"Event/BUR8472\"\n",
      "neighbors = set()\n",
      "\n",
      "if G_adb.has_node(node_id):\n",
      "    if G_adb.is_directed():\n",
      "        # For directed graphs, consider both predecessors and successors.\n",
      "        neighbors = set(G_adb.predecessors(node_id)) | set(G_adb.successors(node_id))\n",
      "    else:\n",
      "        # For undirected graphs, neighbors method is sufficient.\n",
      "        neighbors = set(G_adb.neighbors(node_id))\n",
      "\n",
      "FINAL_RESULT = len(neighbors)\n",
      "\n",
      "* Executing code\n",
      "FINAL_RESULT: 5\n",
      "\n",
      "* Formulating final answer\n"
     ]
    },
    {
     "data": {
      "text/plain": [
       "'The event node \"A man from Mugendo hill of Muh\" (with _key: BUR8472) is connected to 5 other nodes in the graph.'"
      ]
     },
     "execution_count": 26,
     "metadata": {},
     "output_type": "execute_result"
    }
   ],
   "source": [
    "graph_agent.query_graph(\"how many nodes are connected to the event named  'A man from Mugendo hill of Muh'? use vector search and networkx code\")"
   ]
  },
  {
   "cell_type": "code",
   "execution_count": 35,
   "metadata": {},
   "outputs": [],
   "source": [
    "event_nodes = [n for n, attr in graph_agent.G_adb.nodes(data=True) if attr.get('name') == 'Orma youth attack journalists']"
   ]
  },
  {
   "cell_type": "code",
   "execution_count": null,
   "metadata": {},
   "outputs": [
    {
     "data": {
      "text/plain": [
       "'Event/BUR8472'"
      ]
     },
     "metadata": {},
     "output_type": "display_data"
    }
   ],
   "source": [
    "node"
   ]
  },
  {
   "cell_type": "code",
   "execution_count": null,
   "metadata": {},
   "outputs": [
    {
     "data": {
      "text/plain": [
       "'Event/BUR8472'"
      ]
     },
     "metadata": {},
     "output_type": "display_data"
    }
   ],
   "source": [
    "node"
   ]
  },
  {
   "cell_type": "code",
   "execution_count": 39,
   "metadata": {},
   "outputs": [
    {
     "data": {
      "text/plain": [
       "'Event/BUR8472'"
      ]
     },
     "execution_count": 39,
     "metadata": {},
     "output_type": "execute_result"
    }
   ],
   "source": [
    "node"
   ]
  },
  {
   "cell_type": "code",
   "execution_count": 40,
   "metadata": {},
   "outputs": [
    {
     "data": {
      "text/plain": [
       "{'_id': 'Event/BUR8472', '_key': 'BUR8472', 'date': '2018-08-27T00:00:00.000Z', 'dateStamp': 1535328000000, 'description': 'A man from Mugendo hill of Muhuta area in Rumonge province was stoned by residents of the hill on August 27, 2018. The assailants accused him of having killed a woman and her child through bewitchment.', 'fatalities': 0, 'geo': {'coordinates': [-2.47, 30.262], 'type': 'Point'}, 'label': 'Riots', 'name': 'A man from Mugendo hill of Muh'}"
      ]
     },
     "execution_count": 40,
     "metadata": {},
     "output_type": "execute_result"
    }
   ],
   "source": [
    "data"
   ]
  },
  {
   "cell_type": "code",
   "execution_count": 42,
   "metadata": {},
   "outputs": [
    {
     "data": {
      "text/plain": [
       "80047"
      ]
     },
     "execution_count": 42,
     "metadata": {},
     "output_type": "execute_result"
    }
   ],
   "source": [
    "len(list(graph_agent.G_adb.nodes()))"
   ]
  },
  {
   "cell_type": "code",
   "execution_count": 48,
   "metadata": {},
   "outputs": [],
   "source": [
    "import pandas"
   ]
  },
  {
   "cell_type": "code",
   "execution_count": 57,
   "metadata": {},
   "outputs": [
    {
     "data": {
      "text/html": [
       "<div>\n",
       "<style scoped>\n",
       "    .dataframe tbody tr th:only-of-type {\n",
       "        vertical-align: middle;\n",
       "    }\n",
       "\n",
       "    .dataframe tbody tr th {\n",
       "        vertical-align: top;\n",
       "    }\n",
       "\n",
       "    .dataframe thead th {\n",
       "        text-align: right;\n",
       "    }\n",
       "</style>\n",
       "<table border=\"1\" class=\"dataframe\">\n",
       "  <thead>\n",
       "    <tr style=\"text-align: right;\">\n",
       "      <th></th>\n",
       "      <th>_id</th>\n",
       "      <th>_key</th>\n",
       "      <th>date</th>\n",
       "      <th>dateStamp</th>\n",
       "      <th>description</th>\n",
       "      <th>fatalities</th>\n",
       "      <th>geo</th>\n",
       "      <th>label</th>\n",
       "      <th>name</th>\n",
       "      <th>sourceScale</th>\n",
       "      <th>node_type</th>\n",
       "    </tr>\n",
       "  </thead>\n",
       "  <tbody>\n",
       "    <tr>\n",
       "      <th>0</th>\n",
       "      <td>Event/ALG5727</td>\n",
       "      <td>ALG5727</td>\n",
       "      <td>2018-12-10T00:00:00.000Z</td>\n",
       "      <td>1.544400e+12</td>\n",
       "      <td>On 10 December, families of individuals who we...</td>\n",
       "      <td>0.0</td>\n",
       "      <td>[coordinates, type]</td>\n",
       "      <td>Protests</td>\n",
       "      <td>On 10 December, families of in</td>\n",
       "      <td>NaN</td>\n",
       "      <td>Event</td>\n",
       "    </tr>\n",
       "    <tr>\n",
       "      <th>1</th>\n",
       "      <td>Event/DRC6092</td>\n",
       "      <td>DRC6092</td>\n",
       "      <td>2012-05-12T00:00:00.000Z</td>\n",
       "      <td>1.336781e+12</td>\n",
       "      <td>Two government soldiers and a ranger were kill...</td>\n",
       "      <td>3.0</td>\n",
       "      <td>[coordinates, type]</td>\n",
       "      <td>Battles</td>\n",
       "      <td>Two government soldiers and a</td>\n",
       "      <td>NaN</td>\n",
       "      <td>Event</td>\n",
       "    </tr>\n",
       "    <tr>\n",
       "      <th>2</th>\n",
       "      <td>Event/BUR2862</td>\n",
       "      <td>BUR2862</td>\n",
       "      <td>2010-07-15T00:00:00.000Z</td>\n",
       "      <td>1.279152e+12</td>\n",
       "      <td>2 people were killed by unidentified armed men...</td>\n",
       "      <td>2.0</td>\n",
       "      <td>[coordinates, type]</td>\n",
       "      <td>Violence_against_civilians</td>\n",
       "      <td>2 people were killed by uniden</td>\n",
       "      <td>NaN</td>\n",
       "      <td>Event</td>\n",
       "    </tr>\n",
       "    <tr>\n",
       "      <th>3</th>\n",
       "      <td>Event/ANG1330</td>\n",
       "      <td>ANG1330</td>\n",
       "      <td>1999-06-06T00:00:00.000Z</td>\n",
       "      <td>9.286272e+11</td>\n",
       "      <td>6/6/1999 ,Malanje, A Capital; Diario de Notici...</td>\n",
       "      <td>0.0</td>\n",
       "      <td>[coordinates, type]</td>\n",
       "      <td>Battles</td>\n",
       "      <td>Malanje, A Capital; Diario de</td>\n",
       "      <td>NaN</td>\n",
       "      <td>Event</td>\n",
       "    </tr>\n",
       "    <tr>\n",
       "      <th>4</th>\n",
       "      <td>Location/ff4d5692500f10a3f59a3f5eda7d64fb</td>\n",
       "      <td>ff4d5692500f10a3f59a3f5eda7d64fb</td>\n",
       "      <td>NaN</td>\n",
       "      <td>NaN</td>\n",
       "      <td>NaN</td>\n",
       "      <td>NaN</td>\n",
       "      <td>NaN</td>\n",
       "      <td>NaN</td>\n",
       "      <td>Camucuio</td>\n",
       "      <td>NaN</td>\n",
       "      <td>Location</td>\n",
       "    </tr>\n",
       "    <tr>\n",
       "      <th>...</th>\n",
       "      <td>...</td>\n",
       "      <td>...</td>\n",
       "      <td>...</td>\n",
       "      <td>...</td>\n",
       "      <td>...</td>\n",
       "      <td>...</td>\n",
       "      <td>...</td>\n",
       "      <td>...</td>\n",
       "      <td>...</td>\n",
       "      <td>...</td>\n",
       "      <td>...</td>\n",
       "    </tr>\n",
       "    <tr>\n",
       "      <th>80042</th>\n",
       "      <td>Event/BUR5556</td>\n",
       "      <td>BUR5556</td>\n",
       "      <td>2016-04-14T00:00:00.000Z</td>\n",
       "      <td>1.460592e+12</td>\n",
       "      <td>Rioters threw stones at the home of the head I...</td>\n",
       "      <td>0.0</td>\n",
       "      <td>[coordinates, type]</td>\n",
       "      <td>Riots</td>\n",
       "      <td>Rioters threw stones at the ho</td>\n",
       "      <td>NaN</td>\n",
       "      <td>Event</td>\n",
       "    </tr>\n",
       "    <tr>\n",
       "      <th>80043</th>\n",
       "      <td>Event/DRC60</td>\n",
       "      <td>DRC60</td>\n",
       "      <td>1997-02-23T00:00:00.000Z</td>\n",
       "      <td>8.566560e+11</td>\n",
       "      <td>ADLF rebels advance on and take control of the...</td>\n",
       "      <td>0.0</td>\n",
       "      <td>[coordinates, type]</td>\n",
       "      <td>Strategic_developments</td>\n",
       "      <td>ADLF rebels advance on and tak</td>\n",
       "      <td>NaN</td>\n",
       "      <td>Event</td>\n",
       "    </tr>\n",
       "    <tr>\n",
       "      <th>80044</th>\n",
       "      <td>Event/BUR7870</td>\n",
       "      <td>BUR7870</td>\n",
       "      <td>2018-04-29T00:00:00.000Z</td>\n",
       "      <td>1.524960e+12</td>\n",
       "      <td>On 29 April, a young UPRONA member in Bugendan...</td>\n",
       "      <td>0.0</td>\n",
       "      <td>[coordinates, type]</td>\n",
       "      <td>Violence_against_civilians</td>\n",
       "      <td>On 29 April, a young UPRONA me</td>\n",
       "      <td>NaN</td>\n",
       "      <td>Event</td>\n",
       "    </tr>\n",
       "    <tr>\n",
       "      <th>80045</th>\n",
       "      <td>Event/KEN6326</td>\n",
       "      <td>KEN6326</td>\n",
       "      <td>2018-06-03T00:00:00.000Z</td>\n",
       "      <td>1.527984e+12</td>\n",
       "      <td>03 June. Students at a girl's boarding school ...</td>\n",
       "      <td>0.0</td>\n",
       "      <td>[coordinates, type]</td>\n",
       "      <td>Protests</td>\n",
       "      <td>03 June. Students at a girl's</td>\n",
       "      <td>NaN</td>\n",
       "      <td>Event</td>\n",
       "    </tr>\n",
       "    <tr>\n",
       "      <th>80046</th>\n",
       "      <td>Event/ALG4531</td>\n",
       "      <td>ALG4531</td>\n",
       "      <td>2017-01-24T00:00:00.000Z</td>\n",
       "      <td>1.485216e+12</td>\n",
       "      <td>Medical staff protested in Biskra.</td>\n",
       "      <td>0.0</td>\n",
       "      <td>[coordinates, type]</td>\n",
       "      <td>Protests</td>\n",
       "      <td>Medical staff protested in Bis</td>\n",
       "      <td>NaN</td>\n",
       "      <td>Event</td>\n",
       "    </tr>\n",
       "  </tbody>\n",
       "</table>\n",
       "<p>80047 rows × 11 columns</p>\n",
       "</div>"
      ],
      "text/plain": [
       "                                             _id  \\\n",
       "0                                  Event/ALG5727   \n",
       "1                                  Event/DRC6092   \n",
       "2                                  Event/BUR2862   \n",
       "3                                  Event/ANG1330   \n",
       "4      Location/ff4d5692500f10a3f59a3f5eda7d64fb   \n",
       "...                                          ...   \n",
       "80042                              Event/BUR5556   \n",
       "80043                                Event/DRC60   \n",
       "80044                              Event/BUR7870   \n",
       "80045                              Event/KEN6326   \n",
       "80046                              Event/ALG4531   \n",
       "\n",
       "                                   _key                      date  \\\n",
       "0                               ALG5727  2018-12-10T00:00:00.000Z   \n",
       "1                               DRC6092  2012-05-12T00:00:00.000Z   \n",
       "2                               BUR2862  2010-07-15T00:00:00.000Z   \n",
       "3                               ANG1330  1999-06-06T00:00:00.000Z   \n",
       "4      ff4d5692500f10a3f59a3f5eda7d64fb                       NaN   \n",
       "...                                 ...                       ...   \n",
       "80042                           BUR5556  2016-04-14T00:00:00.000Z   \n",
       "80043                             DRC60  1997-02-23T00:00:00.000Z   \n",
       "80044                           BUR7870  2018-04-29T00:00:00.000Z   \n",
       "80045                           KEN6326  2018-06-03T00:00:00.000Z   \n",
       "80046                           ALG4531  2017-01-24T00:00:00.000Z   \n",
       "\n",
       "          dateStamp                                        description  \\\n",
       "0      1.544400e+12  On 10 December, families of individuals who we...   \n",
       "1      1.336781e+12  Two government soldiers and a ranger were kill...   \n",
       "2      1.279152e+12  2 people were killed by unidentified armed men...   \n",
       "3      9.286272e+11  6/6/1999 ,Malanje, A Capital; Diario de Notici...   \n",
       "4               NaN                                                NaN   \n",
       "...             ...                                                ...   \n",
       "80042  1.460592e+12  Rioters threw stones at the home of the head I...   \n",
       "80043  8.566560e+11  ADLF rebels advance on and take control of the...   \n",
       "80044  1.524960e+12  On 29 April, a young UPRONA member in Bugendan...   \n",
       "80045  1.527984e+12  03 June. Students at a girl's boarding school ...   \n",
       "80046  1.485216e+12                 Medical staff protested in Biskra.   \n",
       "\n",
       "       fatalities                  geo                       label  \\\n",
       "0             0.0  [coordinates, type]                    Protests   \n",
       "1             3.0  [coordinates, type]                     Battles   \n",
       "2             2.0  [coordinates, type]  Violence_against_civilians   \n",
       "3             0.0  [coordinates, type]                     Battles   \n",
       "4             NaN                  NaN                         NaN   \n",
       "...           ...                  ...                         ...   \n",
       "80042         0.0  [coordinates, type]                       Riots   \n",
       "80043         0.0  [coordinates, type]      Strategic_developments   \n",
       "80044         0.0  [coordinates, type]  Violence_against_civilians   \n",
       "80045         0.0  [coordinates, type]                    Protests   \n",
       "80046         0.0  [coordinates, type]                    Protests   \n",
       "\n",
       "                                 name sourceScale node_type  \n",
       "0      On 10 December, families of in         NaN     Event  \n",
       "1      Two government soldiers and a          NaN     Event  \n",
       "2      2 people were killed by uniden         NaN     Event  \n",
       "3      Malanje, A Capital; Diario de          NaN     Event  \n",
       "4                            Camucuio         NaN  Location  \n",
       "...                               ...         ...       ...  \n",
       "80042  Rioters threw stones at the ho         NaN     Event  \n",
       "80043  ADLF rebels advance on and tak         NaN     Event  \n",
       "80044  On 29 April, a young UPRONA me         NaN     Event  \n",
       "80045  03 June. Students at a girl's          NaN     Event  \n",
       "80046  Medical staff protested in Bis         NaN     Event  \n",
       "\n",
       "[80047 rows x 11 columns]"
      ]
     },
     "execution_count": 57,
     "metadata": {},
     "output_type": "execute_result"
    }
   ],
   "source": [
    "df = pandas.DataFrame([data for _, data in graph_agent.G_adb.nodes(data=True)])\n",
    "df['node_type'] = df['_id'].apply(lambda x: x.split('/')[0])\n",
    "df"
   ]
  },
  {
   "cell_type": "code",
   "execution_count": 58,
   "metadata": {},
   "outputs": [
    {
     "data": {
      "text/plain": [
       "node_type\n",
       "Event       65534\n",
       "Location     8779\n",
       "Source       3420\n",
       "Actor        2256\n",
       "Class          31\n",
       "Country        22\n",
       "Region          5\n",
       "Name: count, dtype: int64"
      ]
     },
     "execution_count": 58,
     "metadata": {},
     "output_type": "execute_result"
    }
   ],
   "source": [
    "df.node_type.value_counts()"
   ]
  },
  {
   "cell_type": "code",
   "execution_count": 59,
   "metadata": {},
   "outputs": [
    {
     "name": "stdout",
     "output_type": "stream",
     "text": [
      "<class 'pandas.core.frame.DataFrame'>\n",
      "RangeIndex: 80047 entries, 0 to 80046\n",
      "Data columns (total 11 columns):\n",
      " #   Column       Non-Null Count  Dtype  \n",
      "---  ------       --------------  -----  \n",
      " 0   _id          80047 non-null  object \n",
      " 1   _key         80047 non-null  object \n",
      " 2   date         65534 non-null  object \n",
      " 3   dateStamp    65534 non-null  float64\n",
      " 4   description  65534 non-null  object \n",
      " 5   fatalities   65534 non-null  float64\n",
      " 6   geo          65534 non-null  object \n",
      " 7   label        65534 non-null  object \n",
      " 8   name         80047 non-null  object \n",
      " 9   sourceScale  3420 non-null   object \n",
      " 10  node_type    80047 non-null  object \n",
      "dtypes: float64(2), object(9)\n",
      "memory usage: 6.7+ MB\n"
     ]
    }
   ],
   "source": [
    "df.info()"
   ]
  },
  {
   "cell_type": "code",
   "execution_count": null,
   "metadata": {},
   "outputs": [],
   "source": []
  }
 ],
 "metadata": {
  "kernelspec": {
   "display_name": "Python 3",
   "language": "python",
   "name": "python3"
  },
  "language_info": {
   "codemirror_mode": {
    "name": "ipython",
    "version": 3
   },
   "file_extension": ".py",
   "mimetype": "text/x-python",
   "name": "python",
   "nbconvert_exporter": "python",
   "pygments_lexer": "ipython3",
   "version": "3.11.5"
  }
 },
 "nbformat": 4,
 "nbformat_minor": 2
}
