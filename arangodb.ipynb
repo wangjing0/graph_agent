{
 "cells": [
  {
   "cell_type": "code",
   "execution_count": 11,
   "metadata": {},
   "outputs": [],
   "source": [
    "from graph_agent import GraphAgent\n",
    "from  pprint import pprint\n",
    "from IPython.display import display, Markdown, clear_output\n",
    "import time\n",
    "%reload_ext autoreload\n",
    "%autoreload 2"
   ]
  },
  {
   "cell_type": "code",
   "execution_count": 2,
   "metadata": {},
   "outputs": [
    {
     "name": "stderr",
     "output_type": "stream",
     "text": [
      "[03:56:26 +0000] [INFO]: Graph 'OPEN_INTELLIGENCE' exists.\n",
      "[03:56:27 +0000] [INFO]: Default node type set to 'Actor'\n"
     ]
    }
   ],
   "source": [
    "graph_agent = GraphAgent()\n",
    "#graph_agent.create_vector_db()"
   ]
  },
  {
   "cell_type": "code",
   "execution_count": null,
   "metadata": {},
   "outputs": [
    {
     "data": {
      "text/plain": [
       "{'Graph Schema': [{'graph_name': 'OPEN_INTELLIGENCE',\n",
       "   'edge_definitions': [{'edge_collection': 'eventActor',\n",
       "     'from_vertex_collections': ['Event'],\n",
       "     'to_vertex_collections': ['Actor']},\n",
       "    {'edge_collection': 'hasLocation',\n",
       "     'from_vertex_collections': ['Event'],\n",
       "     'to_vertex_collections': ['Location']},\n",
       "    {'edge_collection': 'hasSource',\n",
       "     'from_vertex_collections': ['Event'],\n",
       "     'to_vertex_collections': ['Source']},\n",
       "    {'edge_collection': 'inCountry',\n",
       "     'from_vertex_collections': ['Location'],\n",
       "     'to_vertex_collections': ['Country']},\n",
       "    {'edge_collection': 'inRegion',\n",
       "     'from_vertex_collections': ['Country'],\n",
       "     'to_vertex_collections': ['Region']},\n",
       "    {'edge_collection': 'subClass',\n",
       "     'from_vertex_collections': ['Class'],\n",
       "     'to_vertex_collections': ['Class']},\n",
       "    {'edge_collection': 'type',\n",
       "     'from_vertex_collections': ['Event'],\n",
       "     'to_vertex_collections': ['Class']}]}],\n",
       " 'Collection Schema': [{'collection_name': 'hasLocation',\n",
       "   'collection_type': 'edge',\n",
       "   'edge_properties': [{'name': '_key', 'type': 'str'},\n",
       "    {'name': '_id', 'type': 'str'},\n",
       "    {'name': '_from', 'type': 'str'},\n",
       "    {'name': '_to', 'type': 'str'},\n",
       "    {'name': '_rev', 'type': 'str'}],\n",
       "   'example_edge': {'_key': 'ALG1-61112d48fd89b4045a476e500a51bc5c',\n",
       "    '_id': 'hasLocation/ALG1-61112d48fd89b4045a476e500a51bc5c',\n",
       "    '_from': 'Event/ALG1',\n",
       "    '_to': 'Location/61112d48fd89b4045a476e500a51bc5c',\n",
       "    '_rev': '_jQCnq1i---'}},\n",
       "  {'collection_name': 'hasSource',\n",
       "   'collection_type': 'edge',\n",
       "   'edge_properties': [{'name': '_key', 'type': 'str'},\n",
       "    {'name': '_id', 'type': 'str'},\n",
       "    {'name': '_from', 'type': 'str'},\n",
       "    {'name': '_to', 'type': 'str'},\n",
       "    {'name': '_rev', 'type': 'str'}],\n",
       "   'example_edge': {'_key': 'ALG1-b30282f2374cee867a9f7e2a62deb1b5',\n",
       "    '_id': 'hasSource/ALG1-b30282f2374cee867a9f7e2a62deb1b5',\n",
       "    '_from': 'Event/ALG1',\n",
       "    '_to': 'Source/b30282f2374cee867a9f7e2a62deb1b5',\n",
       "    '_rev': '_jQCn0le---'}},\n",
       "  {'collection_name': 'Location',\n",
       "   'collection_type': 'document',\n",
       "   'document_properties': [{'name': '_key', 'type': 'str'},\n",
       "    {'name': '_id', 'type': 'str'},\n",
       "    {'name': '_rev', 'type': 'str'},\n",
       "    {'name': 'name', 'type': 'str'}],\n",
       "   'example_document': {'_key': '61112d48fd89b4045a476e500a51bc5c',\n",
       "    '_id': 'Location/61112d48fd89b4045a476e500a51bc5c',\n",
       "    '_rev': '_jQCniTK---',\n",
       "    'name': 'Douaouda'}},\n",
       "  {'collection_name': 'Actor',\n",
       "   'collection_type': 'document',\n",
       "   'document_properties': [{'name': '_key', 'type': 'str'},\n",
       "    {'name': '_id', 'type': 'str'},\n",
       "    {'name': '_rev', 'type': 'str'},\n",
       "    {'name': 'name', 'type': 'str'}],\n",
       "   'example_document': {'_key': '228e62bfcd97e3cb8a559cba8a9e7b27',\n",
       "    '_id': 'Actor/228e62bfcd97e3cb8a559cba8a9e7b27',\n",
       "    '_rev': '_jQCnakG---',\n",
       "    'name': 'Zouar Communal Militia (Chad)'}},\n",
       "  {'collection_name': 'Source',\n",
       "   'collection_type': 'document',\n",
       "   'document_properties': [{'name': '_key', 'type': 'str'},\n",
       "    {'name': '_id', 'type': 'str'},\n",
       "    {'name': '_rev', 'type': 'str'},\n",
       "    {'name': 'name', 'type': 'str'},\n",
       "    {'name': 'sourceScale', 'type': 'str'}],\n",
       "   'example_document': {'_key': 'b30282f2374cee867a9f7e2a62deb1b5',\n",
       "    '_id': 'Source/b30282f2374cee867a9f7e2a62deb1b5',\n",
       "    '_rev': '_jQCnj_K---',\n",
       "    'name': 'Algeria Watch',\n",
       "    'sourceScale': 'Other'}},\n",
       "  {'collection_name': 'inCountry',\n",
       "   'collection_type': 'edge',\n",
       "   'edge_properties': [{'name': '_key', 'type': 'str'},\n",
       "    {'name': '_id', 'type': 'str'},\n",
       "    {'name': '_from', 'type': 'str'},\n",
       "    {'name': '_to', 'type': 'str'},\n",
       "    {'name': '_rev', 'type': 'str'}],\n",
       "   'example_edge': {'_key': '61112d48fd89b4045a476e500a51bc5c-Algeria',\n",
       "    '_id': 'inCountry/61112d48fd89b4045a476e500a51bc5c-Algeria',\n",
       "    '_from': 'Location/61112d48fd89b4045a476e500a51bc5c',\n",
       "    '_to': 'Country/Algeria',\n",
       "    '_rev': '_jQCn4jW---'}},\n",
       "  {'collection_name': 'subClass',\n",
       "   'collection_type': 'edge',\n",
       "   'edge_properties': [{'name': '_key', 'type': 'str'},\n",
       "    {'name': '_id', 'type': 'str'},\n",
       "    {'name': '_from', 'type': 'str'},\n",
       "    {'name': '_to', 'type': 'str'},\n",
       "    {'name': '_rev', 'type': 'str'}],\n",
       "   'example_edge': {'_key': 'Violence_against_civilians-Attack',\n",
       "    '_id': 'subClass/Violence_against_civilians-Attack',\n",
       "    '_from': 'Class/Violence_against_civilians',\n",
       "    '_to': 'Class/Attack',\n",
       "    '_rev': '_jQCn5n----'}},\n",
       "  {'collection_name': 'Region',\n",
       "   'collection_type': 'document',\n",
       "   'document_properties': [{'name': '_key', 'type': 'str'},\n",
       "    {'name': '_id', 'type': 'str'},\n",
       "    {'name': '_rev', 'type': 'str'},\n",
       "    {'name': 'name', 'type': 'str'}],\n",
       "   'example_document': {'_key': 'Northern_Africa',\n",
       "    '_id': 'Region/Northern_Africa',\n",
       "    '_rev': '_jQCnixS---',\n",
       "    'name': 'Northern Africa'}},\n",
       "  {'collection_name': 'type',\n",
       "   'collection_type': 'edge',\n",
       "   'edge_properties': [{'name': '_key', 'type': 'str'},\n",
       "    {'name': '_id', 'type': 'str'},\n",
       "    {'name': '_from', 'type': 'str'},\n",
       "    {'name': '_to', 'type': 'str'},\n",
       "    {'name': '_rev', 'type': 'str'},\n",
       "    {'name': 'name', 'type': 'str'}],\n",
       "   'example_edge': {'_key': '143072967',\n",
       "    '_id': 'type/143072967',\n",
       "    '_from': 'Event/ALG1',\n",
       "    '_to': 'Class/Violence_against_civilians',\n",
       "    '_rev': '_jQCn6Oq---',\n",
       "    'name': 'Violence against civilians'}},\n",
       "  {'collection_name': 'inRegion',\n",
       "   'collection_type': 'edge',\n",
       "   'edge_properties': [{'name': '_key', 'type': 'str'},\n",
       "    {'name': '_id', 'type': 'str'},\n",
       "    {'name': '_from', 'type': 'str'},\n",
       "    {'name': '_to', 'type': 'str'},\n",
       "    {'name': '_rev', 'type': 'str'}],\n",
       "   'example_edge': {'_key': 'Angola-Middle_Africa',\n",
       "    '_id': 'inRegion/Angola-Middle_Africa',\n",
       "    '_from': 'Country/Angola',\n",
       "    '_to': 'Region/Middle_Africa',\n",
       "    '_rev': '_jQCn5ay---'}},\n",
       "  {'collection_name': 'Class',\n",
       "   'collection_type': 'document',\n",
       "   'document_properties': [{'name': '_key', 'type': 'str'},\n",
       "    {'name': '_id', 'type': 'str'},\n",
       "    {'name': '_rev', 'type': 'str'},\n",
       "    {'name': 'name', 'type': 'str'}],\n",
       "   'example_document': {'_key': 'Violence_against_civilians',\n",
       "    '_id': 'Class/Violence_against_civilians',\n",
       "    '_rev': '_jQCna1e---',\n",
       "    'name': 'Violence against civilians'}},\n",
       "  {'collection_name': 'Country',\n",
       "   'collection_type': 'document',\n",
       "   'document_properties': [{'name': '_key', 'type': 'str'},\n",
       "    {'name': '_id', 'type': 'str'},\n",
       "    {'name': '_rev', 'type': 'str'},\n",
       "    {'name': 'name', 'type': 'str'}],\n",
       "   'example_document': {'_key': 'Algeria',\n",
       "    '_id': 'Country/Algeria',\n",
       "    '_rev': '_jQCnb-----',\n",
       "    'name': 'Algeria'}},\n",
       "  {'collection_name': 'Event',\n",
       "   'collection_type': 'document',\n",
       "   'document_properties': [{'name': '_key', 'type': 'str'},\n",
       "    {'name': '_id', 'type': 'str'},\n",
       "    {'name': '_rev', 'type': 'str'},\n",
       "    {'name': 'date', 'type': 'str'},\n",
       "    {'name': 'dateStamp', 'type': 'int'},\n",
       "    {'name': 'description', 'type': 'str'},\n",
       "    {'name': 'fatalities', 'type': 'int'},\n",
       "    {'name': 'geo', 'type': 'dict'},\n",
       "    {'name': 'name', 'type': 'str'},\n",
       "    {'name': 'label', 'type': 'str'}],\n",
       "   'example_document': {'_key': 'ALG1',\n",
       "    '_id': 'Event/ALG1',\n",
       "    '_rev': '_jQCndnm---',\n",
       "    'date': '1997-01-01T00:00:00.000Z',\n",
       "    'dateStamp': 852076800000,\n",
       "    'description': '5 January: Beheading of 5 citizens in Douaouda (Tipaza).',\n",
       "    'fatalities': 5,\n",
       "    'geo': {'type': 'Point', 'coordinates': [36.672, 2.789]},\n",
       "    'name': 'Beheading of 5 citizens in Dou',\n",
       "    'label': 'Violence_against_civilians'}},\n",
       "  {'collection_name': 'eventActor',\n",
       "   'collection_type': 'edge',\n",
       "   'edge_properties': [{'name': '_key', 'type': 'str'},\n",
       "    {'name': '_id', 'type': 'str'},\n",
       "    {'name': '_from', 'type': 'str'},\n",
       "    {'name': '_to', 'type': 'str'},\n",
       "    {'name': '_rev', 'type': 'str'}],\n",
       "   'example_edge': {'_key': '63500328',\n",
       "    '_id': 'eventActor/63500328',\n",
       "    '_from': 'Event/ALG1',\n",
       "    '_to': 'Actor/b4226a92202dcdf01cdee130abd85928',\n",
       "    '_rev': '_jQCnjxe---'}}]}"
      ]
     },
     "execution_count": 3,
     "metadata": {},
     "output_type": "execute_result"
    }
   ],
   "source": [
    "graph_agent.arango_graph.schema"
   ]
  },
  {
   "cell_type": "code",
   "execution_count": 4,
   "metadata": {},
   "outputs": [
    {
     "data": {
      "image/png": "[encoded data removed]",
      "text/plain": [
       "<IPython.core.display.Image object>"
      ]
     },
     "execution_count": 4,
     "metadata": {},
     "output_type": "execute_result"
    }
   ],
   "source": [
    "from IPython.display import Image, display\n",
    "Image(graph_agent.agent.get_graph().draw_mermaid_png())"
   ]
  },
  {
   "cell_type": "code",
   "execution_count": 15,
   "metadata": {},
   "outputs": [],
   "source": [
    "# index the vector db\n",
    "#graph_agent.create_vector_db()\n",
    "# load from persisted vector db\n",
    "graph_agent.load_vector_db()"
   ]
  },
  {
   "cell_type": "code",
   "execution_count": 5,
   "metadata": {},
   "outputs": [
    {
     "data": {
      "text/plain": [
       "{'nodes': {'__start__': <langgraph.pregel.read.PregelNode at 0x7f5d29b8c6d0>,\n",
       "  'agent': <langgraph.pregel.read.PregelNode at 0x7f5d29baef50>,\n",
       "  'tools': <langgraph.pregel.read.PregelNode at 0x7f5d29b990d0>},\n",
       " 'channels': {'messages': <langgraph.channels.binop.BinaryOperatorAggregate at 0x7f5d29bae980>,\n",
       "  'structured_response': <langgraph.channels.last_value.LastValue at 0x7f5d4ab30940>,\n",
       "  'is_last_step': langgraph.managed.is_last_step.IsLastStepManager,\n",
       "  'remaining_steps': langgraph.managed.is_last_step.RemainingStepsManager,\n",
       "  '__start__': <langgraph.channels.ephemeral_value.EphemeralValue at 0x7f5d29b6eb80>,\n",
       "  'agent': <langgraph.channels.ephemeral_value.EphemeralValue at 0x7f5d4ab322c0>,\n",
       "  'tools': <langgraph.channels.ephemeral_value.EphemeralValue at 0x7f5d29bad040>,\n",
       "  'branch:__start__:__self__:agent': <langgraph.channels.ephemeral_value.EphemeralValue at 0x7f5d4ab310c0>,\n",
       "  'branch:__start__:__self__:tools': <langgraph.channels.ephemeral_value.EphemeralValue at 0x7f5d7e9e3bc0>,\n",
       "  'branch:agent:__self__:agent': <langgraph.channels.ephemeral_value.EphemeralValue at 0x7f5d4ddb8840>,\n",
       "  'branch:agent:__self__:tools': <langgraph.channels.ephemeral_value.EphemeralValue at 0x7f5d7e593e80>,\n",
       "  'branch:tools:__self__:agent': <langgraph.channels.ephemeral_value.EphemeralValue at 0x7f5d29b9b600>,\n",
       "  'branch:tools:__self__:tools': <langgraph.channels.ephemeral_value.EphemeralValue at 0x7f5d29b98fc0>,\n",
       "  'start:agent': <langgraph.channels.ephemeral_value.EphemeralValue at 0x7f5d29b991c0>,\n",
       "  'branch:agent:should_continue:tools': <langgraph.channels.ephemeral_value.EphemeralValue at 0x7f5d29b8c880>},\n",
       " 'stream_mode': 'updates',\n",
       " 'stream_eager': False,\n",
       " 'output_channels': ['messages', 'structured_response'],\n",
       " 'stream_channels': ['messages', 'structured_response'],\n",
       " 'interrupt_after_nodes': [],\n",
       " 'interrupt_before_nodes': [],\n",
       " 'input_channels': '__start__',\n",
       " 'step_timeout': None,\n",
       " 'debug': False,\n",
       " 'checkpointer': None,\n",
       " 'store': None,\n",
       " 'retry_policy': None,\n",
       " 'config_type': None,\n",
       " 'config': None,\n",
       " 'name': 'LangGraph',\n",
       " 'builder': <langgraph.graph.state.StateGraph at 0x7f5d29b9b890>}"
      ]
     },
     "execution_count": 5,
     "metadata": {},
     "output_type": "execute_result"
    }
   ],
   "source": [
    "graph_agent.agent.__dict__"
   ]
  },
  {
   "cell_type": "code",
   "execution_count": 22,
   "metadata": {},
   "outputs": [],
   "source": [
    "queries = [ \"Who are you? how many tools are available?\",\n",
    "           \"How many countries are there in the graph?\",\n",
    "           \"What is the most impactful node of type event in the graph? Explain why\",\n",
    "           \"How many different types of nodes and connections are there in the graph?\",\n",
    "           \"How many nodes and connections are there in the graph?\",\n",
    "           \"Tell me more about journalists being attacked in Kenya?\",\n",
    "           \"what events are related to Mugendo hill?\",\n",
    "           ]\n"
   ]
  },
  {
   "cell_type": "code",
   "execution_count": 24,
   "metadata": {},
   "outputs": [
    {
     "data": {
      "text/markdown": [
       "<span style=\"color:yellow\">**Who are you? how many tools are available?**</span>"
      ],
      "text/plain": [
       "<IPython.core.display.Markdown object>"
      ]
     },
     "metadata": {},
     "output_type": "display_data"
    },
    {
     "name": "stdout",
     "output_type": "stream",
     "text": [
      "(\"I'm a graph agent designed to help you interact with our graph database \"\n",
      " 'using various tools. Currently, there are 4 available tools:\\n'\n",
      " '\\n'\n",
      " '1. whoami – provides an overview of the database collections and graph '\n",
      " 'schema.\\n'\n",
      " '2. vector_qa – executes a semantic vector search across nodes.\\n'\n",
      " \"3. aql_qa – translates natural language queries into AQL (ArangoDB's query \"\n",
      " 'language) and returns the results.\\n'\n",
      " '4. nx_algorithm_coding_qa – runs specific NetworkX graph algorithms (like '\n",
      " 'traversals or shortest path searches) on the ArangoDB graph.\\n'\n",
      " '\\n'\n",
      " 'How can I assist you further?')\n"
     ]
    },
    {
     "data": {
      "text/markdown": [
       "<span style=\"color:yellow\">**How many countries are there in the graph?**</span>"
      ],
      "text/plain": [
       "<IPython.core.display.Markdown object>"
      ]
     },
     "metadata": {},
     "output_type": "display_data"
    },
    {
     "name": "stdout",
     "output_type": "stream",
     "text": [
      "\n",
      "\n",
      "\u001b[1m> Entering new ArangoGraphQAChain chain...\u001b[0m\n",
      "AQL Query (1):\u001b[32;1m\u001b[1;3m\n",
      "WITH Country\n",
      "RETURN LENGTH(\n",
      "  FOR country IN Country\n",
      "    RETURN 1\n",
      ")\n",
      "\u001b[0m\n",
      "AQL Result:\n",
      "\u001b[32;1m\u001b[1;3m[22]\u001b[0m\n",
      "\n",
      "\u001b[1m> Finished chain.\u001b[0m\n",
      "'The graph contains 22 country records.'\n"
     ]
    },
    {
     "data": {
      "text/markdown": [
       "<span style=\"color:yellow\">**What is the most impactful node of type event in the graph? Explain why**</span>"
      ],
      "text/plain": [
       "<IPython.core.display.Markdown object>"
      ]
     },
     "metadata": {},
     "output_type": "display_data"
    },
    {
     "name": "stdout",
     "output_type": "stream",
     "text": [
      "\n",
      "\n",
      "\u001b[1m> Entering new ArangoGraphQAChain chain...\u001b[0m\n",
      "AQL Query (1):\u001b[32;1m\u001b[1;3m\n",
      "WITH Event, eventActor, hasLocation, hasSource, type\n",
      "\n",
      "FOR e IN Event\n",
      "    LET degree = \n",
      "        LENGTH(FOR v IN ANY e eventActor RETURN 1) +\n",
      "        LENGTH(FOR v IN ANY e hasLocation RETURN 1) +\n",
      "        LENGTH(FOR v IN ANY e hasSource RETURN 1) +\n",
      "        LENGTH(FOR v IN ANY e type RETURN 1)\n",
      "    SORT degree DESC\n",
      "    LIMIT 1\n",
      "    RETURN { event: e, degree: degree }\n",
      "\u001b[0m\n",
      "AQL Result:\n",
      "\u001b[32;1m\u001b[1;3m[{'event': {'_key': 'ANG1623', '_id': 'Event/ANG1623', '_rev': '_jQCni-e-_v', 'date': '1999-08-16T00:00:00.000Z', 'dateStamp': 934761600000, 'description': '16/8/1999 ,Kuvango, Publico (Portugal), Battles, Military Forces of Angola (1975-), UNITA: National Union for the Total Independence of Angola', 'fatalities': 0, 'geo': {'type': 'Point', 'coordinates': [-14.467, 16.3]}, 'name': 'Kuvango, Publico (Portugal), B', 'label': 'Battles'}, 'degree': 5}]\u001b[0m\n",
      "\n",
      "\u001b[1m> Finished chain.\u001b[0m\n",
      "('The analysis shows that the event on August 16, 1999, is the most impactful '\n",
      " 'one. It has the highest degree centrality, meaning it is directly connected '\n",
      " 'to five other nodes—the highest among all event nodes. In graph analysis, a '\n",
      " 'node’s degree centrality is a common indicator of its influence, as it '\n",
      " 'reflects how many interactions or relationships the node has within the '\n",
      " 'dataset. In this case, the event, which is described as a significant battle '\n",
      " 'involving military forces from Angola and UNITA, likely had broad '\n",
      " 'ramifications given its extensive connectivity. This high level of '\n",
      " 'interaction suggests that the event played a pivotal role in the network, '\n",
      " 'impacting multiple entities and thus emerging as the most impactful event '\n",
      " 'node in the graph.')\n"
     ]
    },
    {
     "data": {
      "text/markdown": [
       "<span style=\"color:yellow\">**How many different types of nodes and connections are there in the graph?**</span>"
      ],
      "text/plain": [
       "<IPython.core.display.Markdown object>"
      ]
     },
     "metadata": {},
     "output_type": "display_data"
    },
    {
     "name": "stdout",
     "output_type": "stream",
     "text": [
      "\n",
      "\n",
      "\u001b[1m> Entering new ArangoGraphQAChain chain...\u001b[0m\n",
      "AQL Query (1):\u001b[32;1m\u001b[1;3m\n",
      "WITH Event, Actor, Location, Source, Country, Region, Class, eventActor, hasLocation, hasSource, inCountry, inRegion, subClass, type\n",
      "LET nodeTypes = [\"Event\", \"Actor\", \"Location\", \"Source\", \"Country\", \"Region\", \"Class\"]\n",
      "LET edgeTypes = [\"eventActor\", \"hasLocation\", \"hasSource\", \"inCountry\", \"inRegion\", \"subClass\", \"type\"]\n",
      "RETURN {\n",
      "  nodeTypeCount: LENGTH(nodeTypes),\n",
      "  nodeTypes: nodeTypes,\n",
      "  edgeTypeCount: LENGTH(edgeTypes),\n",
      "  edgeTypes: edgeTypes\n",
      "}\n",
      "\u001b[0m\n",
      "AQL Result:\n",
      "\u001b[32;1m\u001b[1;3m[{'nodeTypeCount': 7, 'nodeTypes': ['Event', 'Actor', 'Location', 'Source', 'Country', 'Region', 'Class'], 'edgeTypeCount': 7, 'edgeTypes': ['eventActor', 'hasLocation', 'hasSource', 'inCountry', 'inRegion', 'subClass', 'type']}]\u001b[0m\n",
      "\n",
      "\u001b[1m> Finished chain.\u001b[0m\n",
      "('The graph contains 7 different types of nodes, which are: Event, Actor, '\n",
      " 'Location, Source, Country, Region, and Class. It also includes 7 distinct '\n",
      " 'types of connections (relationships), which are: eventActor, hasLocation, '\n",
      " 'hasSource, inCountry, inRegion, subClass, and type.')\n"
     ]
    },
    {
     "data": {
      "text/markdown": [
       "<span style=\"color:yellow\">**How many nodes and connections are there in the graph?**</span>"
      ],
      "text/plain": [
       "<IPython.core.display.Markdown object>"
      ]
     },
     "metadata": {},
     "output_type": "display_data"
    },
    {
     "name": "stdout",
     "output_type": "stream",
     "text": [
      "\n",
      "\n",
      "\u001b[1m> Entering new ArangoGraphQAChain chain...\u001b[0m\n",
      "AQL Query (1):\u001b[32;1m\u001b[1;3m\n",
      "WITH Event, Actor, Location, Source, Class, Country, Region, eventActor, hasLocation, hasSource, inCountry, inRegion, subClass, type\n",
      "LET nodeCount = \n",
      "  LENGTH(\n",
      "    FOR doc IN Event RETURN 1\n",
      "  ) +\n",
      "  LENGTH(\n",
      "    FOR doc IN Actor RETURN 1\n",
      "  ) +\n",
      "  LENGTH(\n",
      "    FOR doc IN Location RETURN 1\n",
      "  ) +\n",
      "  LENGTH(\n",
      "    FOR doc IN Source RETURN 1\n",
      "  ) +\n",
      "  LENGTH(\n",
      "    FOR doc IN Class RETURN 1\n",
      "  ) +\n",
      "  LENGTH(\n",
      "    FOR doc IN Country RETURN 1\n",
      "  ) +\n",
      "  LENGTH(\n",
      "    FOR doc IN Region RETURN 1\n",
      "  )\n",
      "LET edgeCount =\n",
      "  LENGTH(\n",
      "    FOR doc IN eventActor RETURN 1\n",
      "  ) +\n",
      "  LENGTH(\n",
      "    FOR doc IN hasLocation RETURN 1\n",
      "  ) +\n",
      "  LENGTH(\n",
      "    FOR doc IN hasSource RETURN 1\n",
      "  ) +\n",
      "  LENGTH(\n",
      "    FOR doc IN inCountry RETURN 1\n",
      "  ) +\n",
      "  LENGTH(\n",
      "    FOR doc IN inRegion RETURN 1\n",
      "  ) +\n",
      "  LENGTH(\n",
      "    FOR doc IN subClass RETURN 1\n",
      "  ) +\n",
      "  LENGTH(\n",
      "    FOR doc IN type RETURN 1\n",
      "  )\n",
      "RETURN { nodes: nodeCount, connections: edgeCount }\n",
      "\u001b[0m\n",
      "AQL Result:\n",
      "\u001b[32;1m\u001b[1;3m[{'nodes': 80047, 'connections': 321819}]\u001b[0m\n",
      "\n",
      "\u001b[1m> Finished chain.\u001b[0m\n",
      "('The graph comprises a total of 80,047 individual nodes along with 321,819 '\n",
      " 'connections.')\n"
     ]
    },
    {
     "data": {
      "text/markdown": [
       "<span style=\"color:yellow\">**Tell me more about journalists being attacked in Kenya?**</span>"
      ],
      "text/plain": [
       "<IPython.core.display.Markdown object>"
      ]
     },
     "metadata": {},
     "output_type": "display_data"
    },
    {
     "name": "stdout",
     "output_type": "stream",
     "text": [
      "('Several documented incidents in Kenya highlight troubling patterns of '\n",
      " 'violence against journalists:\\n'\n",
      " '\\n'\n",
      " '• In January 2013, during a political clash in Kibera, police assaulted '\n",
      " 'journalists who were on the scene to cover the event. This incident '\n",
      " 'underscores the risks faced by media personnel when reporting on volatile '\n",
      " 'political situations.\\n'\n",
      " '\\n'\n",
      " '• On October 31, 2017, in Nairobi, two journalists were assaulted by youth '\n",
      " 'during a NASA Parliamentary Group meeting at the Wiper headquarters. The '\n",
      " 'attack appeared to be motivated by the journalists’ association with '\n",
      " 'specific media outlets, marking the incident as politically charged.\\n'\n",
      " '\\n'\n",
      " '• An earlier event took place on January 8, 2007 in Kibaki, where a '\n",
      " 'journalist was attacked while taking routine photographs of President Kibaki '\n",
      " 'during a mass event. This incident suggests that even standard '\n",
      " 'news-gathering activities can provoke violence under certain circumstances.\\n'\n",
      " '\\n'\n",
      " '• Moreover, on October 09, 2017 in Kisumu, five journalists were reportedly '\n",
      " 'harassed, beaten, and injured by police while covering anti-IEBC '\n",
      " 'demonstrations. This incident adds to the record of state-involved '\n",
      " 'aggression against reporters in politically sensitive contexts.\\n'\n",
      " '\\n'\n",
      " 'Each of these events reflects a broader issue of media intimidation and '\n",
      " 'violence in Kenya, particularly when journalists cover politically charged '\n",
      " 'or contentious events.')\n"
     ]
    },
    {
     "data": {
      "text/markdown": [
       "<span style=\"color:yellow\">**what events are related to Mugendo hill?**</span>"
      ],
      "text/plain": [
       "<IPython.core.display.Markdown object>"
      ]
     },
     "metadata": {},
     "output_type": "display_data"
    },
    {
     "name": "stdout",
     "output_type": "stream",
     "text": [
      "\n",
      "\n",
      "\u001b[1m> Entering new ArangoGraphQAChain chain...\u001b[0m\n",
      "AQL Query (1):\u001b[32;1m\u001b[1;3m\n",
      "WITH Event\n",
      "FOR event IN Event\n",
      "    FILTER CONTAINS(event.description, 'Mugendo hill')\n",
      "    RETURN event\n",
      "\u001b[0m\n",
      "AQL Result:\n",
      "\u001b[32;1m\u001b[1;3m[{'_key': 'BUR3518', '_id': 'Event/BUR3518', '_rev': '_jQCnece-_D', 'date': '2015-06-06T00:00:00.000Z', 'dateStamp': 1433548800000, 'description': 'On Mugendo hill, two members of CNDD-FDD were stabbed; one of them died on the spot, while the other was seriously injured in the attacked. Alliance \"Espoir des Burundais\" were responsible for the attack.', 'fatalities': 1, 'geo': {'type': 'Point', 'coordinates': [-2.518, 29.991]}, 'name': 'On Mugendo hill, two members o', 'label': 'Violence_against_civilians'}, {'_key': 'BUR8472', '_id': 'Event/BUR8472', '_rev': '_jQCnepW-_F', 'date': '2018-08-27T00:00:00.000Z', 'dateStamp': 1535328000000, 'description': 'A man from Mugendo hill of Muhuta area in Rumonge province was stoned by residents of the hill on August 27, 2018. The assailants accused him of having killed a woman and her child through bewitchment.', 'fatalities': 0, 'geo': {'type': 'Point', 'coordinates': [-2.47, 30.262]}, 'name': 'A man from Mugendo hill of Muh', 'label': 'Riots'}]\u001b[0m\n",
      "\n",
      "\u001b[1m> Finished chain.\u001b[0m\n",
      "('The search returned two events related to Mugendo hill:\\n'\n",
      " '\\n'\n",
      " '1. On June 6, 2015, two members of CNDD-FDD were attacked on Mugendo hill; '\n",
      " 'one of them was killed and the other received serious injuries. This attack '\n",
      " 'was attributed to the Alliance \"Espoir des Burundais.\"\\n'\n",
      " '\\n'\n",
      " '2. On August 27, 2018, a local man from Mugendo hill in the Muhuta area of '\n",
      " 'Rumonge province was stoned by residents who accused him of having killed a '\n",
      " 'woman and her child through bewitchment, though there were no fatalities '\n",
      " 'reported in that incident.')\n"
     ]
    }
   ],
   "source": [
    "for query in queries:\n",
    "    #clear_output()\n",
    "    display(Markdown(f'<span style=\"color:yellow\">**{query}**</span>'))\n",
    "    pprint(graph_agent.query_graph(query))\n",
    "    time.sleep(5)"
   ]
  },
  {
   "cell_type": "code",
   "execution_count": null,
   "metadata": {},
   "outputs": [],
   "source": []
  },
  {
   "cell_type": "code",
   "execution_count": null,
   "metadata": {},
   "outputs": [],
   "source": []
  },
  {
   "cell_type": "code",
   "execution_count": null,
   "metadata": {},
   "outputs": [],
   "source": []
  },
  {
   "cell_type": "code",
   "execution_count": null,
   "metadata": {},
   "outputs": [],
   "source": []
  },
  {
   "cell_type": "code",
   "execution_count": null,
   "metadata": {},
   "outputs": [],
   "source": []
  },
  {
   "cell_type": "code",
   "execution_count": null,
   "metadata": {},
   "outputs": [],
   "source": []
  },
  {
   "cell_type": "code",
   "execution_count": null,
   "metadata": {},
   "outputs": [],
   "source": []
  },
  {
   "cell_type": "code",
   "execution_count": 24,
   "metadata": {},
   "outputs": [],
   "source": [
    "response, retrieved_nodes = graph_agent.vector_qa(\"tell me more about journalists being attacked in Kenya? use vector search\")"
   ]
  },
  {
   "cell_type": "code",
   "execution_count": 25,
   "metadata": {},
   "outputs": [
    {
     "name": "stdout",
     "output_type": "stream",
     "text": [
      "Below are several Kenya‐related events from the context where journalists were attacked or assaulted:\n",
      "\n",
      "• KEN3613 – “Police assault journalists cov”: Journalists covering a political clash in Kibera were assaulted by police on January 20, 2013.  \n",
      "• KEN5879 – “2 journalists were assaulted b”: In Nairobi on October 31, 2017, two journalists were assaulted by youth during a NASA Parliamentary Group meeting at the Wiper headquarters, following prior verbal abuse.  \n",
      "• KEN1738 – “Journalist attacked for taking”: On January 8, 2007, a journalist was attacked while taking standard photos of Kibaki during a mass event.  \n",
      "• KEN5132 – “A journalist was seriously bea”: In western Kenya on July 21, 2016, during a rally for opposition leader Raila Odinga, a journalist was seriously beaten and injured before police intervened.\n",
      "\n",
      "Sources:  \n",
      "KEN3613 – \"Police assault journalists cov\"  \n",
      "KEN5879 – \"2 journalists were assaulted b\"  \n",
      "KEN1738 – \"Journalist attacked for taking\"  \n",
      "KEN5132 – \"A journalist was seriously bea\"\n"
     ]
    },
    {
     "data": {
      "text/html": [
       "<div>\n",
       "<style scoped>\n",
       "    .dataframe tbody tr th:only-of-type {\n",
       "        vertical-align: middle;\n",
       "    }\n",
       "\n",
       "    .dataframe tbody tr th {\n",
       "        vertical-align: top;\n",
       "    }\n",
       "\n",
       "    .dataframe thead th {\n",
       "        text-align: right;\n",
       "    }\n",
       "</style>\n",
       "<table border=\"1\" class=\"dataframe\">\n",
       "  <thead>\n",
       "    <tr style=\"text-align: right;\">\n",
       "      <th></th>\n",
       "      <th>description</th>\n",
       "      <th>metadata</th>\n",
       "      <th>_relevance_score</th>\n",
       "    </tr>\n",
       "  </thead>\n",
       "  <tbody>\n",
       "    <tr>\n",
       "      <th>0</th>\n",
       "      <td>Police assault journalists cov : Police assaul...</td>\n",
       "      <td>['_key : KEN3613', 'date : 2013-01-20T00:00:00...</td>\n",
       "      <td>0.016393</td>\n",
       "    </tr>\n",
       "    <tr>\n",
       "      <th>1</th>\n",
       "      <td>Journalists in Northern Kenya  : Journalists i...</td>\n",
       "      <td>['_key : KEN4129', 'date : 2013-11-04T00:00:00...</td>\n",
       "      <td>0.016393</td>\n",
       "    </tr>\n",
       "    <tr>\n",
       "      <th>2</th>\n",
       "      <td>2 journalists were assaulted b : 2 journalists...</td>\n",
       "      <td>['_key : KEN5879', 'date : 2017-10-31T00:00:00...</td>\n",
       "      <td>0.016129</td>\n",
       "    </tr>\n",
       "    <tr>\n",
       "      <th>3</th>\n",
       "      <td>About 100 journalists proteste : About 100 jou...</td>\n",
       "      <td>['_key : BEN15', 'date : 2003-05-15T00:00:00.0...</td>\n",
       "      <td>0.016129</td>\n",
       "    </tr>\n",
       "    <tr>\n",
       "      <th>4</th>\n",
       "      <td>Journalist attacked for taking : Journalist at...</td>\n",
       "      <td>['_key : KEN1738', 'date : 2007-01-08T00:00:00...</td>\n",
       "      <td>0.015873</td>\n",
       "    </tr>\n",
       "    <tr>\n",
       "      <th>5</th>\n",
       "      <td>Two journalists reported being : Two journalis...</td>\n",
       "      <td>['_key : GHA174', 'date : 2013-03-06T00:00:00....</td>\n",
       "      <td>0.015873</td>\n",
       "    </tr>\n",
       "    <tr>\n",
       "      <th>6</th>\n",
       "      <td>A journalist was seriously bea : A journalist ...</td>\n",
       "      <td>['_key : KEN5132', 'date : 2016-07-21T00:00:00...</td>\n",
       "      <td>0.015625</td>\n",
       "    </tr>\n",
       "    <tr>\n",
       "      <th>7</th>\n",
       "      <td>About 100 journalists marched  : About 100 jou...</td>\n",
       "      <td>['_key : BUR2895', 'date : 2011-05-03T00:00:00...</td>\n",
       "      <td>0.015625</td>\n",
       "    </tr>\n",
       "    <tr>\n",
       "      <th>8</th>\n",
       "      <td>Journalists attacked by Police : Journalists a...</td>\n",
       "      <td>['_key : BUR3537', 'date : 2015-06-09T00:00:00...</td>\n",
       "      <td>0.015385</td>\n",
       "    </tr>\n",
       "    <tr>\n",
       "      <th>9</th>\n",
       "      <td>3 French journalists attacked : 3 French journ...</td>\n",
       "      <td>['_key : CON298', 'date : 2009-07-14T00:00:00....</td>\n",
       "      <td>0.015385</td>\n",
       "    </tr>\n",
       "  </tbody>\n",
       "</table>\n",
       "</div>"
      ],
      "text/plain": [
       "                                         description  \\\n",
       "0  Police assault journalists cov : Police assaul...   \n",
       "1  Journalists in Northern Kenya  : Journalists i...   \n",
       "2  2 journalists were assaulted b : 2 journalists...   \n",
       "3  About 100 journalists proteste : About 100 jou...   \n",
       "4  Journalist attacked for taking : Journalist at...   \n",
       "5  Two journalists reported being : Two journalis...   \n",
       "6  A journalist was seriously bea : A journalist ...   \n",
       "7  About 100 journalists marched  : About 100 jou...   \n",
       "8  Journalists attacked by Police : Journalists a...   \n",
       "9  3 French journalists attacked : 3 French journ...   \n",
       "\n",
       "                                            metadata  _relevance_score  \n",
       "0  ['_key : KEN3613', 'date : 2013-01-20T00:00:00...          0.016393  \n",
       "1  ['_key : KEN4129', 'date : 2013-11-04T00:00:00...          0.016393  \n",
       "2  ['_key : KEN5879', 'date : 2017-10-31T00:00:00...          0.016129  \n",
       "3  ['_key : BEN15', 'date : 2003-05-15T00:00:00.0...          0.016129  \n",
       "4  ['_key : KEN1738', 'date : 2007-01-08T00:00:00...          0.015873  \n",
       "5  ['_key : GHA174', 'date : 2013-03-06T00:00:00....          0.015873  \n",
       "6  ['_key : KEN5132', 'date : 2016-07-21T00:00:00...          0.015625  \n",
       "7  ['_key : BUR2895', 'date : 2011-05-03T00:00:00...          0.015625  \n",
       "8  ['_key : BUR3537', 'date : 2015-06-09T00:00:00...          0.015385  \n",
       "9  ['_key : CON298', 'date : 2009-07-14T00:00:00....          0.015385  "
      ]
     },
     "metadata": {},
     "output_type": "display_data"
    }
   ],
   "source": [
    "print(response)\n",
    "display(retrieved_nodes)"
   ]
  },
  {
   "cell_type": "code",
   "execution_count": null,
   "metadata": {},
   "outputs": [],
   "source": []
  }
 ],
 "metadata": {
  "kernelspec": {
   "display_name": "Python 3",
   "language": "python",
   "name": "python3"
  },
  "language_info": {
   "codemirror_mode": {
    "name": "ipython",
    "version": 3
   },
   "file_extension": ".py",
   "mimetype": "text/x-python",
   "name": "python",
   "nbconvert_exporter": "python",
   "pygments_lexer": "ipython3",
   "version": "3.11.5"
  }
 },
 "nbformat": 4,
 "nbformat_minor": 2
}
